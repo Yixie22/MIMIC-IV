{
 "cells": [
  {
   "cell_type": "code",
   "execution_count": 1,
   "metadata": {},
   "outputs": [],
   "source": [
    "import pandas as pd\n",
    "import numpy as np\n",
    "from sklearn.impute import KNNImputer\n",
    "import time, pickle\n",
    "\n",
    "from sklearn import datasets, linear_model\n",
    "from genetic_selection import GeneticSelectionCV\n",
    "from sklearn.preprocessing import StandardScaler, MinMaxScaler\n",
    "from sklearn.pipeline import Pipeline\n",
    "from sklearn.linear_model import LogisticRegression, LinearRegression, ElasticNet,RidgeClassifier\n",
    "from sklearn.tree import DecisionTreeClassifier\n",
    "from sklearn.svm import SVC\n",
    "from sklearn.model_selection import cross_validate, KFold, train_test_split, GridSearchCV\n",
    "from sklearn.ensemble import RandomForestClassifier, AdaBoostClassifier, GradientBoostingClassifier\n",
    "from sklearn.metrics import balanced_accuracy_score, make_scorer, roc_auc_score, accuracy_score\n",
    "from sklearn.inspection import permutation_importance\n",
    "\n",
    "import matplotlib.pyplot as plt"
   ]
  },
  {
   "cell_type": "code",
   "execution_count": 2,
   "metadata": {},
   "outputs": [
    {
     "data": {
      "text/html": [
       "<div>\n",
       "<style scoped>\n",
       "    .dataframe tbody tr th:only-of-type {\n",
       "        vertical-align: middle;\n",
       "    }\n",
       "\n",
       "    .dataframe tbody tr th {\n",
       "        vertical-align: top;\n",
       "    }\n",
       "\n",
       "    .dataframe thead th {\n",
       "        text-align: right;\n",
       "    }\n",
       "</style>\n",
       "<table border=\"1\" class=\"dataframe\">\n",
       "  <thead>\n",
       "    <tr style=\"text-align: right;\">\n",
       "      <th></th>\n",
       "      <th>icustay id</th>\n",
       "      <th>Capillary refill rate</th>\n",
       "      <th>Diastolic blood pressure</th>\n",
       "      <th>Fraction inspired oxygen</th>\n",
       "      <th>Glascow coma scale eye opening</th>\n",
       "      <th>Glascow coma scale motor response</th>\n",
       "      <th>Glascow coma scale total</th>\n",
       "      <th>Glascow coma scale verbal response</th>\n",
       "      <th>Glucose</th>\n",
       "      <th>Heart Rate</th>\n",
       "      <th>Height</th>\n",
       "      <th>Mean blood pressure</th>\n",
       "      <th>Oxygen saturation</th>\n",
       "      <th>Respiratory rate</th>\n",
       "      <th>Systolic blood pressure</th>\n",
       "      <th>Temperature</th>\n",
       "      <th>Weight</th>\n",
       "      <th>pH</th>\n",
       "      <th>label</th>\n",
       "    </tr>\n",
       "  </thead>\n",
       "  <tbody>\n",
       "    <tr>\n",
       "      <th>0</th>\n",
       "      <td>58313_episode1_timeseries.csv</td>\n",
       "      <td>NaN</td>\n",
       "      <td>74.0</td>\n",
       "      <td>0.95</td>\n",
       "      <td>Spontaneously</td>\n",
       "      <td>Localizes Pain</td>\n",
       "      <td>NaN</td>\n",
       "      <td>Confused</td>\n",
       "      <td>140.0</td>\n",
       "      <td>100.0</td>\n",
       "      <td>NaN</td>\n",
       "      <td>91.0</td>\n",
       "      <td>96.0</td>\n",
       "      <td>25.0</td>\n",
       "      <td>141.0</td>\n",
       "      <td>37.055556</td>\n",
       "      <td>52.389876</td>\n",
       "      <td>7.40</td>\n",
       "      <td>0.0</td>\n",
       "    </tr>\n",
       "    <tr>\n",
       "      <th>1</th>\n",
       "      <td>9498_episode1_timeseries.csv</td>\n",
       "      <td>NaN</td>\n",
       "      <td>46.0</td>\n",
       "      <td>NaN</td>\n",
       "      <td>4 Spontaneously</td>\n",
       "      <td>6 Obeys Commands</td>\n",
       "      <td>15.0</td>\n",
       "      <td>5 Oriented</td>\n",
       "      <td>127.0</td>\n",
       "      <td>93.0</td>\n",
       "      <td>NaN</td>\n",
       "      <td>61.0</td>\n",
       "      <td>94.0</td>\n",
       "      <td>19.0</td>\n",
       "      <td>96.0</td>\n",
       "      <td>36.000002</td>\n",
       "      <td>NaN</td>\n",
       "      <td>7.37</td>\n",
       "      <td>0.0</td>\n",
       "    </tr>\n",
       "    <tr>\n",
       "      <th>2</th>\n",
       "      <td>31641_episode2_timeseries.csv</td>\n",
       "      <td>NaN</td>\n",
       "      <td>48.0</td>\n",
       "      <td>NaN</td>\n",
       "      <td>To Speech</td>\n",
       "      <td>Obeys Commands</td>\n",
       "      <td>NaN</td>\n",
       "      <td>Oriented</td>\n",
       "      <td>138.0</td>\n",
       "      <td>66.0</td>\n",
       "      <td>NaN</td>\n",
       "      <td>72.0</td>\n",
       "      <td>97.0</td>\n",
       "      <td>16.0</td>\n",
       "      <td>115.0</td>\n",
       "      <td>36.111111</td>\n",
       "      <td>71.350022</td>\n",
       "      <td>NaN</td>\n",
       "      <td>0.0</td>\n",
       "    </tr>\n",
       "    <tr>\n",
       "      <th>3</th>\n",
       "      <td>66015_episode2_timeseries.csv</td>\n",
       "      <td>NaN</td>\n",
       "      <td>52.0</td>\n",
       "      <td>0.40</td>\n",
       "      <td>None</td>\n",
       "      <td>No response</td>\n",
       "      <td>NaN</td>\n",
       "      <td>No Response-ETT</td>\n",
       "      <td>137.0</td>\n",
       "      <td>84.0</td>\n",
       "      <td>NaN</td>\n",
       "      <td>66.0</td>\n",
       "      <td>99.0</td>\n",
       "      <td>9.0</td>\n",
       "      <td>108.0</td>\n",
       "      <td>36.611111</td>\n",
       "      <td>68.265596</td>\n",
       "      <td>7.26</td>\n",
       "      <td>0.0</td>\n",
       "    </tr>\n",
       "    <tr>\n",
       "      <th>4</th>\n",
       "      <td>51795_episode1_timeseries.csv</td>\n",
       "      <td>NaN</td>\n",
       "      <td>85.0</td>\n",
       "      <td>NaN</td>\n",
       "      <td>Spontaneously</td>\n",
       "      <td>Obeys Commands</td>\n",
       "      <td>NaN</td>\n",
       "      <td>Oriented</td>\n",
       "      <td>144.0</td>\n",
       "      <td>114.0</td>\n",
       "      <td>NaN</td>\n",
       "      <td>96.0</td>\n",
       "      <td>97.0</td>\n",
       "      <td>30.0</td>\n",
       "      <td>132.0</td>\n",
       "      <td>37.055556</td>\n",
       "      <td>78.017824</td>\n",
       "      <td>7.48</td>\n",
       "      <td>0.0</td>\n",
       "    </tr>\n",
       "    <tr>\n",
       "      <th>...</th>\n",
       "      <td>...</td>\n",
       "      <td>...</td>\n",
       "      <td>...</td>\n",
       "      <td>...</td>\n",
       "      <td>...</td>\n",
       "      <td>...</td>\n",
       "      <td>...</td>\n",
       "      <td>...</td>\n",
       "      <td>...</td>\n",
       "      <td>...</td>\n",
       "      <td>...</td>\n",
       "      <td>...</td>\n",
       "      <td>...</td>\n",
       "      <td>...</td>\n",
       "      <td>...</td>\n",
       "      <td>...</td>\n",
       "      <td>...</td>\n",
       "      <td>...</td>\n",
       "      <td>...</td>\n",
       "    </tr>\n",
       "    <tr>\n",
       "      <th>17898</th>\n",
       "      <td>76799_episode1_timeseries.csv</td>\n",
       "      <td>NaN</td>\n",
       "      <td>82.0</td>\n",
       "      <td>1.00</td>\n",
       "      <td>Spontaneously</td>\n",
       "      <td>Obeys Commands</td>\n",
       "      <td>NaN</td>\n",
       "      <td>Oriented</td>\n",
       "      <td>147.0</td>\n",
       "      <td>86.0</td>\n",
       "      <td>157.0</td>\n",
       "      <td>87.0</td>\n",
       "      <td>99.0</td>\n",
       "      <td>16.0</td>\n",
       "      <td>144.0</td>\n",
       "      <td>36.888889</td>\n",
       "      <td>90.809118</td>\n",
       "      <td>6.50</td>\n",
       "      <td>0.0</td>\n",
       "    </tr>\n",
       "    <tr>\n",
       "      <th>17899</th>\n",
       "      <td>99288_episode1_timeseries.csv</td>\n",
       "      <td>NaN</td>\n",
       "      <td>35.0</td>\n",
       "      <td>0.40</td>\n",
       "      <td>To Speech</td>\n",
       "      <td>Obeys Commands</td>\n",
       "      <td>NaN</td>\n",
       "      <td>No Response-ETT</td>\n",
       "      <td>184.0</td>\n",
       "      <td>64.0</td>\n",
       "      <td>NaN</td>\n",
       "      <td>61.0</td>\n",
       "      <td>100.0</td>\n",
       "      <td>16.0</td>\n",
       "      <td>137.0</td>\n",
       "      <td>36.777778</td>\n",
       "      <td>117.000000</td>\n",
       "      <td>7.36</td>\n",
       "      <td>0.0</td>\n",
       "    </tr>\n",
       "    <tr>\n",
       "      <th>17900</th>\n",
       "      <td>29502_episode2_timeseries.csv</td>\n",
       "      <td>NaN</td>\n",
       "      <td>71.0</td>\n",
       "      <td>NaN</td>\n",
       "      <td>4 Spontaneously</td>\n",
       "      <td>6 Obeys Commands</td>\n",
       "      <td>15.0</td>\n",
       "      <td>5 Oriented</td>\n",
       "      <td>88.0</td>\n",
       "      <td>102.0</td>\n",
       "      <td>NaN</td>\n",
       "      <td>83.0</td>\n",
       "      <td>98.0</td>\n",
       "      <td>17.0</td>\n",
       "      <td>125.0</td>\n",
       "      <td>37.055599</td>\n",
       "      <td>71.000000</td>\n",
       "      <td>5.50</td>\n",
       "      <td>0.0</td>\n",
       "    </tr>\n",
       "    <tr>\n",
       "      <th>17901</th>\n",
       "      <td>77280_episode1_timeseries.csv</td>\n",
       "      <td>NaN</td>\n",
       "      <td>62.0</td>\n",
       "      <td>NaN</td>\n",
       "      <td>Spontaneously</td>\n",
       "      <td>Obeys Commands</td>\n",
       "      <td>NaN</td>\n",
       "      <td>Confused</td>\n",
       "      <td>119.0</td>\n",
       "      <td>67.0</td>\n",
       "      <td>NaN</td>\n",
       "      <td>73.0</td>\n",
       "      <td>100.0</td>\n",
       "      <td>11.0</td>\n",
       "      <td>114.0</td>\n",
       "      <td>35.555556</td>\n",
       "      <td>74.000000</td>\n",
       "      <td>7.42</td>\n",
       "      <td>0.0</td>\n",
       "    </tr>\n",
       "    <tr>\n",
       "      <th>17902</th>\n",
       "      <td>1530_episode1_timeseries.csv</td>\n",
       "      <td>NaN</td>\n",
       "      <td>74.0</td>\n",
       "      <td>NaN</td>\n",
       "      <td>4 Spontaneously</td>\n",
       "      <td>6 Obeys Commands</td>\n",
       "      <td>15.0</td>\n",
       "      <td>5 Oriented</td>\n",
       "      <td>151.0</td>\n",
       "      <td>104.0</td>\n",
       "      <td>NaN</td>\n",
       "      <td>89.0</td>\n",
       "      <td>95.0</td>\n",
       "      <td>13.0</td>\n",
       "      <td>122.0</td>\n",
       "      <td>36.722221</td>\n",
       "      <td>96.800003</td>\n",
       "      <td>7.36</td>\n",
       "      <td>0.0</td>\n",
       "    </tr>\n",
       "  </tbody>\n",
       "</table>\n",
       "<p>17903 rows × 19 columns</p>\n",
       "</div>"
      ],
      "text/plain": [
       "                          icustay id  Capillary refill rate  \\\n",
       "0      58313_episode1_timeseries.csv                    NaN   \n",
       "1       9498_episode1_timeseries.csv                    NaN   \n",
       "2      31641_episode2_timeseries.csv                    NaN   \n",
       "3      66015_episode2_timeseries.csv                    NaN   \n",
       "4      51795_episode1_timeseries.csv                    NaN   \n",
       "...                              ...                    ...   \n",
       "17898  76799_episode1_timeseries.csv                    NaN   \n",
       "17899  99288_episode1_timeseries.csv                    NaN   \n",
       "17900  29502_episode2_timeseries.csv                    NaN   \n",
       "17901  77280_episode1_timeseries.csv                    NaN   \n",
       "17902   1530_episode1_timeseries.csv                    NaN   \n",
       "\n",
       "       Diastolic blood pressure  Fraction inspired oxygen  \\\n",
       "0                          74.0                      0.95   \n",
       "1                          46.0                       NaN   \n",
       "2                          48.0                       NaN   \n",
       "3                          52.0                      0.40   \n",
       "4                          85.0                       NaN   \n",
       "...                         ...                       ...   \n",
       "17898                      82.0                      1.00   \n",
       "17899                      35.0                      0.40   \n",
       "17900                      71.0                       NaN   \n",
       "17901                      62.0                       NaN   \n",
       "17902                      74.0                       NaN   \n",
       "\n",
       "      Glascow coma scale eye opening Glascow coma scale motor response  \\\n",
       "0                      Spontaneously                    Localizes Pain   \n",
       "1                    4 Spontaneously                  6 Obeys Commands   \n",
       "2                          To Speech                    Obeys Commands   \n",
       "3                               None                       No response   \n",
       "4                      Spontaneously                    Obeys Commands   \n",
       "...                              ...                               ...   \n",
       "17898                  Spontaneously                    Obeys Commands   \n",
       "17899                      To Speech                    Obeys Commands   \n",
       "17900                4 Spontaneously                  6 Obeys Commands   \n",
       "17901                  Spontaneously                    Obeys Commands   \n",
       "17902                4 Spontaneously                  6 Obeys Commands   \n",
       "\n",
       "       Glascow coma scale total Glascow coma scale verbal response  Glucose  \\\n",
       "0                           NaN                           Confused    140.0   \n",
       "1                          15.0                         5 Oriented    127.0   \n",
       "2                           NaN                           Oriented    138.0   \n",
       "3                           NaN                    No Response-ETT    137.0   \n",
       "4                           NaN                           Oriented    144.0   \n",
       "...                         ...                                ...      ...   \n",
       "17898                       NaN                           Oriented    147.0   \n",
       "17899                       NaN                    No Response-ETT    184.0   \n",
       "17900                      15.0                         5 Oriented     88.0   \n",
       "17901                       NaN                           Confused    119.0   \n",
       "17902                      15.0                         5 Oriented    151.0   \n",
       "\n",
       "       Heart Rate  Height  Mean blood pressure  Oxygen saturation  \\\n",
       "0           100.0     NaN                 91.0               96.0   \n",
       "1            93.0     NaN                 61.0               94.0   \n",
       "2            66.0     NaN                 72.0               97.0   \n",
       "3            84.0     NaN                 66.0               99.0   \n",
       "4           114.0     NaN                 96.0               97.0   \n",
       "...           ...     ...                  ...                ...   \n",
       "17898        86.0   157.0                 87.0               99.0   \n",
       "17899        64.0     NaN                 61.0              100.0   \n",
       "17900       102.0     NaN                 83.0               98.0   \n",
       "17901        67.0     NaN                 73.0              100.0   \n",
       "17902       104.0     NaN                 89.0               95.0   \n",
       "\n",
       "       Respiratory rate  Systolic blood pressure  Temperature      Weight  \\\n",
       "0                  25.0                    141.0    37.055556   52.389876   \n",
       "1                  19.0                     96.0    36.000002         NaN   \n",
       "2                  16.0                    115.0    36.111111   71.350022   \n",
       "3                   9.0                    108.0    36.611111   68.265596   \n",
       "4                  30.0                    132.0    37.055556   78.017824   \n",
       "...                 ...                      ...          ...         ...   \n",
       "17898              16.0                    144.0    36.888889   90.809118   \n",
       "17899              16.0                    137.0    36.777778  117.000000   \n",
       "17900              17.0                    125.0    37.055599   71.000000   \n",
       "17901              11.0                    114.0    35.555556   74.000000   \n",
       "17902              13.0                    122.0    36.722221   96.800003   \n",
       "\n",
       "         pH  label  \n",
       "0      7.40    0.0  \n",
       "1      7.37    0.0  \n",
       "2       NaN    0.0  \n",
       "3      7.26    0.0  \n",
       "4      7.48    0.0  \n",
       "...     ...    ...  \n",
       "17898  6.50    0.0  \n",
       "17899  7.36    0.0  \n",
       "17900  5.50    0.0  \n",
       "17901  7.42    0.0  \n",
       "17902  7.36    0.0  \n",
       "\n",
       "[17903 rows x 19 columns]"
      ]
     },
     "execution_count": 2,
     "metadata": {},
     "output_type": "execute_result"
    }
   ],
   "source": [
    "df = pd.read_csv('/home/e0205142/project/MIMIC_assignment1/data/train.csv')\n",
    "df"
   ]
  },
  {
   "cell_type": "code",
   "execution_count": 3,
   "metadata": {},
   "outputs": [
    {
     "name": "stdout",
     "output_type": "stream",
     "text": [
      "<class 'pandas.core.frame.DataFrame'>\n",
      "RangeIndex: 17903 entries, 0 to 17902\n",
      "Data columns (total 19 columns):\n",
      " #   Column                              Non-Null Count  Dtype  \n",
      "---  ------                              --------------  -----  \n",
      " 0   icustay id                          17903 non-null  object \n",
      " 1   Capillary refill rate               323 non-null    float64\n",
      " 2   Diastolic blood pressure            17689 non-null  float64\n",
      " 3   Fraction inspired oxygen            5309 non-null   float64\n",
      " 4   Glascow coma scale eye opening      17739 non-null  object \n",
      " 5   Glascow coma scale motor response   17737 non-null  object \n",
      " 6   Glascow coma scale total            10387 non-null  float64\n",
      " 7   Glascow coma scale verbal response  17736 non-null  object \n",
      " 8   Glucose                             17886 non-null  float64\n",
      " 9   Heart Rate                          17689 non-null  float64\n",
      " 10  Height                              3385 non-null   float64\n",
      " 11  Mean blood pressure                 17687 non-null  float64\n",
      " 12  Oxygen saturation                   17783 non-null  float64\n",
      " 13  Respiratory rate                    17683 non-null  float64\n",
      " 14  Systolic blood pressure             17689 non-null  float64\n",
      " 15  Temperature                         17554 non-null  float64\n",
      " 16  Weight                              13052 non-null  float64\n",
      " 17  pH                                  14776 non-null  float64\n",
      " 18  label                               17903 non-null  float64\n",
      "dtypes: float64(15), object(4)\n",
      "memory usage: 2.6+ MB\n"
     ]
    }
   ],
   "source": [
    "df.info()"
   ]
  },
  {
   "cell_type": "code",
   "execution_count": 4,
   "metadata": {},
   "outputs": [
    {
     "data": {
      "text/html": [
       "<div>\n",
       "<style scoped>\n",
       "    .dataframe tbody tr th:only-of-type {\n",
       "        vertical-align: middle;\n",
       "    }\n",
       "\n",
       "    .dataframe tbody tr th {\n",
       "        vertical-align: top;\n",
       "    }\n",
       "\n",
       "    .dataframe thead th {\n",
       "        text-align: right;\n",
       "    }\n",
       "</style>\n",
       "<table border=\"1\" class=\"dataframe\">\n",
       "  <thead>\n",
       "    <tr style=\"text-align: right;\">\n",
       "      <th></th>\n",
       "      <th>Capillary refill rate</th>\n",
       "      <th>Diastolic blood pressure</th>\n",
       "      <th>Fraction inspired oxygen</th>\n",
       "      <th>Glascow coma scale total</th>\n",
       "      <th>Glucose</th>\n",
       "      <th>Heart Rate</th>\n",
       "      <th>Height</th>\n",
       "      <th>Mean blood pressure</th>\n",
       "      <th>Oxygen saturation</th>\n",
       "      <th>Respiratory rate</th>\n",
       "      <th>Systolic blood pressure</th>\n",
       "      <th>Temperature</th>\n",
       "      <th>Weight</th>\n",
       "      <th>pH</th>\n",
       "      <th>label</th>\n",
       "    </tr>\n",
       "  </thead>\n",
       "  <tbody>\n",
       "    <tr>\n",
       "      <th>count</th>\n",
       "      <td>323.000000</td>\n",
       "      <td>17689.000000</td>\n",
       "      <td>5309.000000</td>\n",
       "      <td>10387.000000</td>\n",
       "      <td>17886.000000</td>\n",
       "      <td>17689.000000</td>\n",
       "      <td>3385.000000</td>\n",
       "      <td>17687.000000</td>\n",
       "      <td>17783.000000</td>\n",
       "      <td>17683.000000</td>\n",
       "      <td>17689.000000</td>\n",
       "      <td>17554.000000</td>\n",
       "      <td>1.305200e+04</td>\n",
       "      <td>14776.000000</td>\n",
       "      <td>17903.000000</td>\n",
       "    </tr>\n",
       "    <tr>\n",
       "      <th>mean</th>\n",
       "      <td>0.229102</td>\n",
       "      <td>71.121262</td>\n",
       "      <td>0.734140</td>\n",
       "      <td>10.260903</td>\n",
       "      <td>155.349435</td>\n",
       "      <td>89.817288</td>\n",
       "      <td>168.548597</td>\n",
       "      <td>82.512712</td>\n",
       "      <td>96.600045</td>\n",
       "      <td>18.210202</td>\n",
       "      <td>123.949799</td>\n",
       "      <td>36.604080</td>\n",
       "      <td>7.135584e+02</td>\n",
       "      <td>7.092986</td>\n",
       "      <td>0.135340</td>\n",
       "    </tr>\n",
       "    <tr>\n",
       "      <th>std</th>\n",
       "      <td>0.420907</td>\n",
       "      <td>757.341034</td>\n",
       "      <td>0.264228</td>\n",
       "      <td>4.780035</td>\n",
       "      <td>113.680344</td>\n",
       "      <td>21.932248</td>\n",
       "      <td>14.862592</td>\n",
       "      <td>50.767863</td>\n",
       "      <td>6.343250</td>\n",
       "      <td>6.940607</td>\n",
       "      <td>25.984069</td>\n",
       "      <td>1.284341</td>\n",
       "      <td>7.212364e+04</td>\n",
       "      <td>2.137607</td>\n",
       "      <td>0.342096</td>\n",
       "    </tr>\n",
       "    <tr>\n",
       "      <th>min</th>\n",
       "      <td>0.000000</td>\n",
       "      <td>0.000000</td>\n",
       "      <td>0.000000</td>\n",
       "      <td>3.000000</td>\n",
       "      <td>0.000000</td>\n",
       "      <td>0.000000</td>\n",
       "      <td>0.000000</td>\n",
       "      <td>-34.000000</td>\n",
       "      <td>0.000000</td>\n",
       "      <td>0.000000</td>\n",
       "      <td>0.000000</td>\n",
       "      <td>0.000000</td>\n",
       "      <td>0.000000e+00</td>\n",
       "      <td>0.000000</td>\n",
       "      <td>0.000000</td>\n",
       "    </tr>\n",
       "    <tr>\n",
       "      <th>25%</th>\n",
       "      <td>0.000000</td>\n",
       "      <td>53.000000</td>\n",
       "      <td>0.500000</td>\n",
       "      <td>6.000000</td>\n",
       "      <td>109.000000</td>\n",
       "      <td>76.000000</td>\n",
       "      <td>160.000000</td>\n",
       "      <td>69.333298</td>\n",
       "      <td>96.000000</td>\n",
       "      <td>14.000000</td>\n",
       "      <td>106.000000</td>\n",
       "      <td>36.013890</td>\n",
       "      <td>6.600000e+01</td>\n",
       "      <td>7.230000</td>\n",
       "      <td>0.000000</td>\n",
       "    </tr>\n",
       "    <tr>\n",
       "      <th>50%</th>\n",
       "      <td>0.000000</td>\n",
       "      <td>63.000000</td>\n",
       "      <td>0.700000</td>\n",
       "      <td>11.000000</td>\n",
       "      <td>135.000000</td>\n",
       "      <td>88.000000</td>\n",
       "      <td>170.000000</td>\n",
       "      <td>80.000000</td>\n",
       "      <td>98.000000</td>\n",
       "      <td>18.000000</td>\n",
       "      <td>121.000000</td>\n",
       "      <td>36.611112</td>\n",
       "      <td>7.860000e+01</td>\n",
       "      <td>7.350000</td>\n",
       "      <td>0.000000</td>\n",
       "    </tr>\n",
       "    <tr>\n",
       "      <th>75%</th>\n",
       "      <td>0.000000</td>\n",
       "      <td>74.000000</td>\n",
       "      <td>1.000000</td>\n",
       "      <td>15.000000</td>\n",
       "      <td>173.000000</td>\n",
       "      <td>102.000000</td>\n",
       "      <td>178.000000</td>\n",
       "      <td>93.000000</td>\n",
       "      <td>100.000000</td>\n",
       "      <td>22.000000</td>\n",
       "      <td>140.000000</td>\n",
       "      <td>37.166698</td>\n",
       "      <td>9.400000e+01</td>\n",
       "      <td>7.420000</td>\n",
       "      <td>0.000000</td>\n",
       "    </tr>\n",
       "    <tr>\n",
       "      <th>max</th>\n",
       "      <td>1.000000</td>\n",
       "      <td>100105.010000</td>\n",
       "      <td>1.990000</td>\n",
       "      <td>15.000000</td>\n",
       "      <td>9999.000000</td>\n",
       "      <td>941.000000</td>\n",
       "      <td>429.000000</td>\n",
       "      <td>6350.000000</td>\n",
       "      <td>100.000000</td>\n",
       "      <td>115.000000</td>\n",
       "      <td>281.000000</td>\n",
       "      <td>60.000000</td>\n",
       "      <td>8.239872e+06</td>\n",
       "      <td>100.000000</td>\n",
       "      <td>1.000000</td>\n",
       "    </tr>\n",
       "  </tbody>\n",
       "</table>\n",
       "</div>"
      ],
      "text/plain": [
       "       Capillary refill rate  Diastolic blood pressure  \\\n",
       "count             323.000000              17689.000000   \n",
       "mean                0.229102                 71.121262   \n",
       "std                 0.420907                757.341034   \n",
       "min                 0.000000                  0.000000   \n",
       "25%                 0.000000                 53.000000   \n",
       "50%                 0.000000                 63.000000   \n",
       "75%                 0.000000                 74.000000   \n",
       "max                 1.000000             100105.010000   \n",
       "\n",
       "       Fraction inspired oxygen  Glascow coma scale total       Glucose  \\\n",
       "count               5309.000000              10387.000000  17886.000000   \n",
       "mean                   0.734140                 10.260903    155.349435   \n",
       "std                    0.264228                  4.780035    113.680344   \n",
       "min                    0.000000                  3.000000      0.000000   \n",
       "25%                    0.500000                  6.000000    109.000000   \n",
       "50%                    0.700000                 11.000000    135.000000   \n",
       "75%                    1.000000                 15.000000    173.000000   \n",
       "max                    1.990000                 15.000000   9999.000000   \n",
       "\n",
       "         Heart Rate       Height  Mean blood pressure  Oxygen saturation  \\\n",
       "count  17689.000000  3385.000000         17687.000000       17783.000000   \n",
       "mean      89.817288   168.548597            82.512712          96.600045   \n",
       "std       21.932248    14.862592            50.767863           6.343250   \n",
       "min        0.000000     0.000000           -34.000000           0.000000   \n",
       "25%       76.000000   160.000000            69.333298          96.000000   \n",
       "50%       88.000000   170.000000            80.000000          98.000000   \n",
       "75%      102.000000   178.000000            93.000000         100.000000   \n",
       "max      941.000000   429.000000          6350.000000         100.000000   \n",
       "\n",
       "       Respiratory rate  Systolic blood pressure   Temperature        Weight  \\\n",
       "count      17683.000000             17689.000000  17554.000000  1.305200e+04   \n",
       "mean          18.210202               123.949799     36.604080  7.135584e+02   \n",
       "std            6.940607                25.984069      1.284341  7.212364e+04   \n",
       "min            0.000000                 0.000000      0.000000  0.000000e+00   \n",
       "25%           14.000000               106.000000     36.013890  6.600000e+01   \n",
       "50%           18.000000               121.000000     36.611112  7.860000e+01   \n",
       "75%           22.000000               140.000000     37.166698  9.400000e+01   \n",
       "max          115.000000               281.000000     60.000000  8.239872e+06   \n",
       "\n",
       "                 pH         label  \n",
       "count  14776.000000  17903.000000  \n",
       "mean       7.092986      0.135340  \n",
       "std        2.137607      0.342096  \n",
       "min        0.000000      0.000000  \n",
       "25%        7.230000      0.000000  \n",
       "50%        7.350000      0.000000  \n",
       "75%        7.420000      0.000000  \n",
       "max      100.000000      1.000000  "
      ]
     },
     "execution_count": 4,
     "metadata": {},
     "output_type": "execute_result"
    }
   ],
   "source": [
    "df.describe()"
   ]
  },
  {
   "cell_type": "markdown",
   "metadata": {},
   "source": [
    "**Dtype of Glascow coma scale eye opening, Glascow coma scale motor response, Glascow coma scale verbal response is object. They should be checked and updated.**"
   ]
  },
  {
   "cell_type": "markdown",
   "metadata": {},
   "source": [
    "## 1. Clean data"
   ]
  },
  {
   "cell_type": "markdown",
   "metadata": {},
   "source": [
    "### 1.1 fix outliers"
   ]
  },
  {
   "cell_type": "code",
   "execution_count": 5,
   "metadata": {},
   "outputs": [],
   "source": [
    "df['Diastolic blood pressure'] = df['Diastolic blood pressure'].mask(df['Diastolic blood pressure']>150, np.nan)\n",
    "df['Fraction inspired oxygen'] = df['Fraction inspired oxygen'].mask(df['Fraction inspired oxygen']>1, np.nan)\n",
    "df['Glucose'] = df['Glucose'].mask(df['Glucose']>1250, np.nan)\n",
    "df['Heart Rate'] = df['Heart Rate'].mask(df['Heart Rate']>300, np.nan)\n",
    "df['Height'] = df['Height'].mask((df['Height']>250) | (df['Height']<= 0), np.nan)\n",
    "df['Mean blood pressure'] = df['Mean blood pressure'].mask((df['Mean blood pressure']>190) | (df['Mean blood pressure'] <= 0), np.nan)\n",
    "df['Systolic blood pressure'] = df['Systolic blood pressure'].mask((df['Systolic blood pressure'] > 275) | (df['Systolic blood pressure']<=0), np.nan)\n",
    "df['Temperature'] = df['Temperature'].mask((df['Temperature']>49) | (df['Temperature'] < 20), np.nan)\n",
    "df['Weight'] = df['Weight'].mask(df['Weight'] > 250, np.nan)\n",
    "df['pH'] = df['pH'].mask((df['pH'] > 8) | (df['pH'] < 6), np.nan)\n"
   ]
  },
  {
   "cell_type": "code",
   "execution_count": 6,
   "metadata": {},
   "outputs": [
    {
     "data": {
      "text/html": [
       "<div>\n",
       "<style scoped>\n",
       "    .dataframe tbody tr th:only-of-type {\n",
       "        vertical-align: middle;\n",
       "    }\n",
       "\n",
       "    .dataframe tbody tr th {\n",
       "        vertical-align: top;\n",
       "    }\n",
       "\n",
       "    .dataframe thead th {\n",
       "        text-align: right;\n",
       "    }\n",
       "</style>\n",
       "<table border=\"1\" class=\"dataframe\">\n",
       "  <thead>\n",
       "    <tr style=\"text-align: right;\">\n",
       "      <th></th>\n",
       "      <th>Capillary refill rate</th>\n",
       "      <th>Diastolic blood pressure</th>\n",
       "      <th>Fraction inspired oxygen</th>\n",
       "      <th>Glascow coma scale total</th>\n",
       "      <th>Glucose</th>\n",
       "      <th>Heart Rate</th>\n",
       "      <th>Height</th>\n",
       "      <th>Mean blood pressure</th>\n",
       "      <th>Oxygen saturation</th>\n",
       "      <th>Respiratory rate</th>\n",
       "      <th>Systolic blood pressure</th>\n",
       "      <th>Temperature</th>\n",
       "      <th>Weight</th>\n",
       "      <th>pH</th>\n",
       "      <th>label</th>\n",
       "    </tr>\n",
       "  </thead>\n",
       "  <tbody>\n",
       "    <tr>\n",
       "      <th>count</th>\n",
       "      <td>323.000000</td>\n",
       "      <td>17675.000000</td>\n",
       "      <td>5308.000000</td>\n",
       "      <td>10387.000000</td>\n",
       "      <td>17883.000000</td>\n",
       "      <td>17687.000000</td>\n",
       "      <td>3382.000000</td>\n",
       "      <td>17664.000000</td>\n",
       "      <td>17783.000000</td>\n",
       "      <td>17683.000000</td>\n",
       "      <td>17676.000000</td>\n",
       "      <td>17545.000000</td>\n",
       "      <td>13041.000000</td>\n",
       "      <td>13026.000000</td>\n",
       "      <td>17903.000000</td>\n",
       "    </tr>\n",
       "    <tr>\n",
       "      <th>mean</th>\n",
       "      <td>0.229102</td>\n",
       "      <td>64.293409</td>\n",
       "      <td>0.733904</td>\n",
       "      <td>10.260903</td>\n",
       "      <td>154.662920</td>\n",
       "      <td>89.723356</td>\n",
       "      <td>168.571260</td>\n",
       "      <td>82.087485</td>\n",
       "      <td>96.600045</td>\n",
       "      <td>18.210202</td>\n",
       "      <td>124.025062</td>\n",
       "      <td>36.619437</td>\n",
       "      <td>82.061271</td>\n",
       "      <td>7.300895</td>\n",
       "      <td>0.135340</td>\n",
       "    </tr>\n",
       "    <tr>\n",
       "      <th>std</th>\n",
       "      <td>0.420907</td>\n",
       "      <td>17.154907</td>\n",
       "      <td>0.263690</td>\n",
       "      <td>4.780035</td>\n",
       "      <td>85.670512</td>\n",
       "      <td>20.074608</td>\n",
       "      <td>13.572903</td>\n",
       "      <td>18.210046</td>\n",
       "      <td>6.343250</td>\n",
       "      <td>6.940607</td>\n",
       "      <td>25.765027</td>\n",
       "      <td>1.003978</td>\n",
       "      <td>24.337755</td>\n",
       "      <td>0.283119</td>\n",
       "      <td>0.342096</td>\n",
       "    </tr>\n",
       "    <tr>\n",
       "      <th>min</th>\n",
       "      <td>0.000000</td>\n",
       "      <td>0.000000</td>\n",
       "      <td>0.000000</td>\n",
       "      <td>3.000000</td>\n",
       "      <td>0.000000</td>\n",
       "      <td>0.000000</td>\n",
       "      <td>13.000000</td>\n",
       "      <td>2.000000</td>\n",
       "      <td>0.000000</td>\n",
       "      <td>0.000000</td>\n",
       "      <td>11.000000</td>\n",
       "      <td>26.666700</td>\n",
       "      <td>0.000000</td>\n",
       "      <td>6.000000</td>\n",
       "      <td>0.000000</td>\n",
       "    </tr>\n",
       "    <tr>\n",
       "      <th>25%</th>\n",
       "      <td>0.000000</td>\n",
       "      <td>53.000000</td>\n",
       "      <td>0.500000</td>\n",
       "      <td>6.000000</td>\n",
       "      <td>109.000000</td>\n",
       "      <td>76.000000</td>\n",
       "      <td>160.000000</td>\n",
       "      <td>69.333298</td>\n",
       "      <td>96.000000</td>\n",
       "      <td>14.000000</td>\n",
       "      <td>106.000000</td>\n",
       "      <td>36.055556</td>\n",
       "      <td>66.000000</td>\n",
       "      <td>7.290000</td>\n",
       "      <td>0.000000</td>\n",
       "    </tr>\n",
       "    <tr>\n",
       "      <th>50%</th>\n",
       "      <td>0.000000</td>\n",
       "      <td>62.000000</td>\n",
       "      <td>0.700000</td>\n",
       "      <td>11.000000</td>\n",
       "      <td>135.000000</td>\n",
       "      <td>88.000000</td>\n",
       "      <td>170.000000</td>\n",
       "      <td>80.000000</td>\n",
       "      <td>98.000000</td>\n",
       "      <td>18.000000</td>\n",
       "      <td>121.000000</td>\n",
       "      <td>36.611112</td>\n",
       "      <td>78.599998</td>\n",
       "      <td>7.370000</td>\n",
       "      <td>0.000000</td>\n",
       "    </tr>\n",
       "    <tr>\n",
       "      <th>75%</th>\n",
       "      <td>0.000000</td>\n",
       "      <td>74.000000</td>\n",
       "      <td>1.000000</td>\n",
       "      <td>15.000000</td>\n",
       "      <td>173.000000</td>\n",
       "      <td>102.000000</td>\n",
       "      <td>178.000000</td>\n",
       "      <td>93.000000</td>\n",
       "      <td>100.000000</td>\n",
       "      <td>22.000000</td>\n",
       "      <td>140.000000</td>\n",
       "      <td>37.166698</td>\n",
       "      <td>94.000000</td>\n",
       "      <td>7.430000</td>\n",
       "      <td>0.000000</td>\n",
       "    </tr>\n",
       "    <tr>\n",
       "      <th>max</th>\n",
       "      <td>1.000000</td>\n",
       "      <td>149.000000</td>\n",
       "      <td>1.000000</td>\n",
       "      <td>15.000000</td>\n",
       "      <td>1210.000000</td>\n",
       "      <td>190.000000</td>\n",
       "      <td>209.000000</td>\n",
       "      <td>188.000000</td>\n",
       "      <td>100.000000</td>\n",
       "      <td>115.000000</td>\n",
       "      <td>268.000000</td>\n",
       "      <td>42.000000</td>\n",
       "      <td>250.000000</td>\n",
       "      <td>8.000000</td>\n",
       "      <td>1.000000</td>\n",
       "    </tr>\n",
       "  </tbody>\n",
       "</table>\n",
       "</div>"
      ],
      "text/plain": [
       "       Capillary refill rate  Diastolic blood pressure  \\\n",
       "count             323.000000              17675.000000   \n",
       "mean                0.229102                 64.293409   \n",
       "std                 0.420907                 17.154907   \n",
       "min                 0.000000                  0.000000   \n",
       "25%                 0.000000                 53.000000   \n",
       "50%                 0.000000                 62.000000   \n",
       "75%                 0.000000                 74.000000   \n",
       "max                 1.000000                149.000000   \n",
       "\n",
       "       Fraction inspired oxygen  Glascow coma scale total       Glucose  \\\n",
       "count               5308.000000              10387.000000  17883.000000   \n",
       "mean                   0.733904                 10.260903    154.662920   \n",
       "std                    0.263690                  4.780035     85.670512   \n",
       "min                    0.000000                  3.000000      0.000000   \n",
       "25%                    0.500000                  6.000000    109.000000   \n",
       "50%                    0.700000                 11.000000    135.000000   \n",
       "75%                    1.000000                 15.000000    173.000000   \n",
       "max                    1.000000                 15.000000   1210.000000   \n",
       "\n",
       "         Heart Rate       Height  Mean blood pressure  Oxygen saturation  \\\n",
       "count  17687.000000  3382.000000         17664.000000       17783.000000   \n",
       "mean      89.723356   168.571260            82.087485          96.600045   \n",
       "std       20.074608    13.572903            18.210046           6.343250   \n",
       "min        0.000000    13.000000             2.000000           0.000000   \n",
       "25%       76.000000   160.000000            69.333298          96.000000   \n",
       "50%       88.000000   170.000000            80.000000          98.000000   \n",
       "75%      102.000000   178.000000            93.000000         100.000000   \n",
       "max      190.000000   209.000000           188.000000         100.000000   \n",
       "\n",
       "       Respiratory rate  Systolic blood pressure   Temperature        Weight  \\\n",
       "count      17683.000000             17676.000000  17545.000000  13041.000000   \n",
       "mean          18.210202               124.025062     36.619437     82.061271   \n",
       "std            6.940607                25.765027      1.003978     24.337755   \n",
       "min            0.000000                11.000000     26.666700      0.000000   \n",
       "25%           14.000000               106.000000     36.055556     66.000000   \n",
       "50%           18.000000               121.000000     36.611112     78.599998   \n",
       "75%           22.000000               140.000000     37.166698     94.000000   \n",
       "max          115.000000               268.000000     42.000000    250.000000   \n",
       "\n",
       "                 pH         label  \n",
       "count  13026.000000  17903.000000  \n",
       "mean       7.300895      0.135340  \n",
       "std        0.283119      0.342096  \n",
       "min        6.000000      0.000000  \n",
       "25%        7.290000      0.000000  \n",
       "50%        7.370000      0.000000  \n",
       "75%        7.430000      0.000000  \n",
       "max        8.000000      1.000000  "
      ]
     },
     "execution_count": 6,
     "metadata": {},
     "output_type": "execute_result"
    }
   ],
   "source": [
    "df.describe()"
   ]
  },
  {
   "cell_type": "markdown",
   "metadata": {},
   "source": [
    "### 1.2 fix 'Glascow coma scale eye opening' variable"
   ]
  },
  {
   "cell_type": "code",
   "execution_count": 7,
   "metadata": {},
   "outputs": [
    {
     "data": {
      "text/plain": [
       "4 Spontaneously    5239\n",
       "Spontaneously      3965\n",
       "1 No Response      3135\n",
       "None               1915\n",
       "3 To speech        1391\n",
       "To Speech           956\n",
       "2 To pain           674\n",
       "To Pain             464\n",
       "Name: Glascow coma scale eye opening, dtype: int64"
      ]
     },
     "execution_count": 7,
     "metadata": {},
     "output_type": "execute_result"
    }
   ],
   "source": [
    "df['Glascow coma scale eye opening'].value_counts()"
   ]
  },
  {
   "cell_type": "markdown",
   "metadata": {},
   "source": [
    "The numbers at the beginning of strings should be removed."
   ]
  },
  {
   "cell_type": "code",
   "execution_count": 8,
   "metadata": {},
   "outputs": [
    {
     "data": {
      "text/plain": [
       "4 Spontaneously    5239\n",
       "Spontaneously      3965\n",
       "1 No Response      3135\n",
       "None               1915\n",
       "3 To speech        1391\n",
       "To Speech           956\n",
       "2 To pain           674\n",
       "To Pain             464\n",
       "Name: Glascow coma scale eye opening, dtype: int64"
      ]
     },
     "execution_count": 8,
     "metadata": {},
     "output_type": "execute_result"
    }
   ],
   "source": [
    "#df['Glascow coma scale eye opening'] = \n",
    "df['Glascow coma scale eye opening'].value_counts()"
   ]
  },
  {
   "cell_type": "code",
   "execution_count": 9,
   "metadata": {},
   "outputs": [
    {
     "data": {
      "text/plain": [
       "4 Spontaneously    9204\n",
       "1 No Response      5050\n",
       "3 To speech        2347\n",
       "2 To pain          1138\n",
       "Name: Glascow coma scale eye opening, dtype: int64"
      ]
     },
     "execution_count": 9,
     "metadata": {},
     "output_type": "execute_result"
    }
   ],
   "source": [
    "label_m = {\n",
    "    'None': '1 No Response',\n",
    "    'No Response': '1 No Response',\n",
    "    'To Pain': '2 To pain',\n",
    "    'To Speech': '3 To speech',\n",
    "    'Spontaneously': '4 Spontaneously'\n",
    "}\n",
    "\n",
    "for orig, target in label_m.items():\n",
    "    df['Glascow coma scale eye opening'] = df['Glascow coma scale eye opening'].replace(orig, target)\n",
    "\n",
    "df['Glascow coma scale eye opening'].value_counts()"
   ]
  },
  {
   "cell_type": "markdown",
   "metadata": {},
   "source": [
    "### 1.3 fix 'Glascow coma scale motor response' variable"
   ]
  },
  {
   "cell_type": "code",
   "execution_count": 10,
   "metadata": {},
   "outputs": [
    {
     "data": {
      "text/plain": [
       "6 Obeys Commands      5908\n",
       "Obeys Commands        4476\n",
       "1 No Response         2316\n",
       "5 Localizes Pain      1392\n",
       "No response           1305\n",
       "Localizes Pain         820\n",
       "4 Flex-withdraws       689\n",
       "Flex-withdraws         579\n",
       "3 Abnorm flexion        80\n",
       "Abnormal extension      66\n",
       "2 Abnorm extensn        54\n",
       "Abnormal Flexion        52\n",
       "Name: Glascow coma scale motor response, dtype: int64"
      ]
     },
     "execution_count": 10,
     "metadata": {},
     "output_type": "execute_result"
    }
   ],
   "source": [
    "df['Glascow coma scale motor response'].value_counts()"
   ]
  },
  {
   "cell_type": "code",
   "execution_count": 11,
   "metadata": {},
   "outputs": [
    {
     "data": {
      "text/plain": [
       "6 Obeys Commands    10384\n",
       "1 No Response        3621\n",
       "5 Localizes Pain     2212\n",
       "4 Flex-withdraws     1268\n",
       "3 Abnorm flexion      132\n",
       "2 Abnorm extensn      120\n",
       "Name: Glascow coma scale motor response, dtype: int64"
      ]
     },
     "execution_count": 11,
     "metadata": {},
     "output_type": "execute_result"
    }
   ],
   "source": [
    "label_m = {\n",
    "    'No response': '1 No Response',\n",
    "    'Abnormal extension': '2 Abnorm extensn',\n",
    "    'Abnormal Flexion': '3 Abnorm flexion',\n",
    "    'Flex-withdraws': '4 Flex-withdraws',\n",
    "    'Localizes Pain':'5 Localizes Pain',\n",
    "    'Obeys Commands':'6 Obeys Commands'\n",
    "}\n",
    "\n",
    "for orig, target in label_m.items():\n",
    "    df['Glascow coma scale motor response'] = df['Glascow coma scale motor response'].replace(orig, target)\n",
    "\n",
    "df['Glascow coma scale motor response'].value_counts()"
   ]
  },
  {
   "cell_type": "markdown",
   "metadata": {},
   "source": [
    "### 1.3 fix 'Glascow coma scale verbal response' variable"
   ]
  },
  {
   "cell_type": "code",
   "execution_count": 12,
   "metadata": {},
   "outputs": [
    {
     "data": {
      "text/plain": [
       "1.0 ET/Trach               4975\n",
       "5 Oriented                 4224\n",
       "Oriented                   3332\n",
       "No Response-ETT            2787\n",
       "4 Confused                  647\n",
       "Confused                    621\n",
       "No Response                 384\n",
       "1 No Response               355\n",
       "2 Incomp sounds             181\n",
       "Incomprehensible sounds     136\n",
       "3 Inapprop words             57\n",
       "Inappropriate Words          37\n",
       "Name: Glascow coma scale verbal response, dtype: int64"
      ]
     },
     "execution_count": 12,
     "metadata": {},
     "output_type": "execute_result"
    }
   ],
   "source": [
    "df['Glascow coma scale verbal response'].value_counts()"
   ]
  },
  {
   "cell_type": "markdown",
   "metadata": {},
   "source": [
    "1.0 ET/Trach stands for endotracheal (ET) tube/tracheostomy tube."
   ]
  },
  {
   "cell_type": "code",
   "execution_count": 13,
   "metadata": {},
   "outputs": [
    {
     "data": {
      "text/plain": [
       "5 Oriented           7556\n",
       "0 ET/Trach           4975\n",
       "0 No Response-ETT    2787\n",
       "4 Confused           1268\n",
       "1 No Response         739\n",
       "2 Incomp sounds       317\n",
       "3 Inapprop words       94\n",
       "Name: Glascow coma scale verbal response, dtype: int64"
      ]
     },
     "execution_count": 13,
     "metadata": {},
     "output_type": "execute_result"
    }
   ],
   "source": [
    "label_m = {\n",
    "    '1.0 ET/Trach': '0 ET/Trach',\n",
    "    'No Response-ETT': '0 No Response-ETT',\n",
    "    'No Response': '1 No Response',\n",
    "    'Incomprehensible sounds': '2 Incomp sounds',\n",
    "    'Inappropriate Words': '3 Inapprop words',\n",
    "    'Confused': '4 Confused',\n",
    "    'Oriented':'5 Oriented',\n",
    "}\n",
    "\n",
    "for orig, target in label_m.items():\n",
    "    df['Glascow coma scale verbal response'] = df['Glascow coma scale verbal response'].replace(orig, target)\n",
    "\n",
    "df['Glascow coma scale verbal response'].value_counts()"
   ]
  },
  {
   "cell_type": "code",
   "execution_count": 14,
   "metadata": {},
   "outputs": [
    {
     "data": {
      "text/plain": [
       "4 Spontaneously    9204\n",
       "1 No Response      5050\n",
       "3 To speech        2347\n",
       "2 To pain          1138\n",
       "Name: Glascow coma scale eye opening, dtype: int64"
      ]
     },
     "execution_count": 14,
     "metadata": {},
     "output_type": "execute_result"
    }
   ],
   "source": [
    "df['Glascow coma scale eye opening'].value_counts()"
   ]
  },
  {
   "cell_type": "markdown",
   "metadata": {},
   "source": [
    "check NAs"
   ]
  },
  {
   "cell_type": "code",
   "execution_count": 15,
   "metadata": {},
   "outputs": [
    {
     "data": {
      "text/plain": [
       "icustay id                                0\n",
       "Capillary refill rate                 17580\n",
       "Diastolic blood pressure                228\n",
       "Fraction inspired oxygen              12595\n",
       "Glascow coma scale eye opening          164\n",
       "Glascow coma scale motor response       166\n",
       "Glascow coma scale total               7516\n",
       "Glascow coma scale verbal response      167\n",
       "Glucose                                  20\n",
       "Heart Rate                              216\n",
       "Height                                14521\n",
       "Mean blood pressure                     239\n",
       "Oxygen saturation                       120\n",
       "Respiratory rate                        220\n",
       "Systolic blood pressure                 227\n",
       "Temperature                             358\n",
       "Weight                                 4862\n",
       "pH                                     4877\n",
       "label                                     0\n",
       "dtype: int64"
      ]
     },
     "execution_count": 15,
     "metadata": {},
     "output_type": "execute_result"
    }
   ],
   "source": [
    "df.isnull().sum()"
   ]
  },
  {
   "cell_type": "code",
   "execution_count": 16,
   "metadata": {},
   "outputs": [
    {
     "data": {
      "text/plain": [
       "icustay id                            0.000000\n",
       "Capillary refill rate                 0.981958\n",
       "Diastolic blood pressure              0.012735\n",
       "Fraction inspired oxygen              0.703513\n",
       "Glascow coma scale eye opening        0.009160\n",
       "Glascow coma scale motor response     0.009272\n",
       "Glascow coma scale total              0.419818\n",
       "Glascow coma scale verbal response    0.009328\n",
       "Glucose                               0.001117\n",
       "Heart Rate                            0.012065\n",
       "Height                                0.811093\n",
       "Mean blood pressure                   0.013350\n",
       "Oxygen saturation                     0.006703\n",
       "Respiratory rate                      0.012288\n",
       "Systolic blood pressure               0.012679\n",
       "Temperature                           0.019997\n",
       "Weight                                0.271575\n",
       "pH                                    0.272412\n",
       "label                                 0.000000\n",
       "dtype: float64"
      ]
     },
     "execution_count": 16,
     "metadata": {},
     "output_type": "execute_result"
    }
   ],
   "source": [
    "df.isnull().sum()/len(df)"
   ]
  },
  {
   "cell_type": "code",
   "execution_count": 17,
   "metadata": {},
   "outputs": [
    {
     "data": {
      "text/plain": [
       "0.0    15480\n",
       "1.0     2423\n",
       "Name: label, dtype: int64"
      ]
     },
     "execution_count": 17,
     "metadata": {},
     "output_type": "execute_result"
    }
   ],
   "source": [
    "df['label'].value_counts()"
   ]
  },
  {
   "cell_type": "markdown",
   "metadata": {},
   "source": [
    "**2423/(2423+15480) patients deceased. Imbalanced data. This is a problem as it is typically the minority class on which predictions are most important.**"
   ]
  },
  {
   "cell_type": "code",
   "execution_count": 18,
   "metadata": {},
   "outputs": [],
   "source": [
    "# save corrected dataset\n",
    "df.to_csv('/home/e0205142/project/MIMIC_assignment1/data/train_corrected.csv', index=False)"
   ]
  },
  {
   "cell_type": "markdown",
   "metadata": {},
   "source": [
    "### 1.4 change ordinal features from string to integer"
   ]
  },
  {
   "cell_type": "code",
   "execution_count": 19,
   "metadata": {},
   "outputs": [],
   "source": [
    "df['Glascow coma scale eye opening'] = df['Glascow coma scale eye opening'].str.split(' ').str[0]"
   ]
  },
  {
   "cell_type": "code",
   "execution_count": 20,
   "metadata": {},
   "outputs": [],
   "source": [
    "df['Glascow coma scale motor response'] = df['Glascow coma scale motor response'].str.split(' ').str[0]"
   ]
  },
  {
   "cell_type": "code",
   "execution_count": 21,
   "metadata": {},
   "outputs": [],
   "source": [
    "df['Glascow coma scale verbal response'] = df['Glascow coma scale verbal response'].str.split(' ').str[0]"
   ]
  },
  {
   "cell_type": "code",
   "execution_count": 22,
   "metadata": {},
   "outputs": [
    {
     "data": {
      "text/plain": [
       "icustay id                             object\n",
       "Capillary refill rate                 float64\n",
       "Diastolic blood pressure              float64\n",
       "Fraction inspired oxygen              float64\n",
       "Glascow coma scale eye opening         object\n",
       "Glascow coma scale motor response      object\n",
       "Glascow coma scale total              float64\n",
       "Glascow coma scale verbal response     object\n",
       "Glucose                               float64\n",
       "Heart Rate                            float64\n",
       "Height                                float64\n",
       "Mean blood pressure                   float64\n",
       "Oxygen saturation                     float64\n",
       "Respiratory rate                      float64\n",
       "Systolic blood pressure               float64\n",
       "Temperature                           float64\n",
       "Weight                                float64\n",
       "pH                                    float64\n",
       "label                                 float64\n",
       "dtype: object"
      ]
     },
     "execution_count": 22,
     "metadata": {},
     "output_type": "execute_result"
    }
   ],
   "source": [
    "df.dtypes"
   ]
  },
  {
   "cell_type": "code",
   "execution_count": 23,
   "metadata": {},
   "outputs": [],
   "source": [
    "df['Glascow coma scale eye opening'] = df['Glascow coma scale eye opening'].astype(np.float64)"
   ]
  },
  {
   "cell_type": "code",
   "execution_count": 24,
   "metadata": {},
   "outputs": [],
   "source": [
    "df['Glascow coma scale motor response'] = df['Glascow coma scale motor response'].astype(np.float64)"
   ]
  },
  {
   "cell_type": "code",
   "execution_count": 25,
   "metadata": {},
   "outputs": [],
   "source": [
    "df['Glascow coma scale verbal response'] = df['Glascow coma scale verbal response'].astype(np.float64)"
   ]
  },
  {
   "cell_type": "code",
   "execution_count": 26,
   "metadata": {},
   "outputs": [
    {
     "data": {
      "text/plain": [
       "icustay id                             object\n",
       "Capillary refill rate                 float64\n",
       "Diastolic blood pressure              float64\n",
       "Fraction inspired oxygen              float64\n",
       "Glascow coma scale eye opening        float64\n",
       "Glascow coma scale motor response     float64\n",
       "Glascow coma scale total              float64\n",
       "Glascow coma scale verbal response    float64\n",
       "Glucose                               float64\n",
       "Heart Rate                            float64\n",
       "Height                                float64\n",
       "Mean blood pressure                   float64\n",
       "Oxygen saturation                     float64\n",
       "Respiratory rate                      float64\n",
       "Systolic blood pressure               float64\n",
       "Temperature                           float64\n",
       "Weight                                float64\n",
       "pH                                    float64\n",
       "label                                 float64\n",
       "dtype: object"
      ]
     },
     "execution_count": 26,
     "metadata": {},
     "output_type": "execute_result"
    }
   ],
   "source": [
    "df.dtypes"
   ]
  },
  {
   "cell_type": "code",
   "execution_count": 27,
   "metadata": {},
   "outputs": [],
   "source": [
    "df.to_csv('/home/e0205142/project/MIMIC_assignment1/data/train_corrected_encoded.csv', index=False)"
   ]
  },
  {
   "cell_type": "markdown",
   "metadata": {},
   "source": [
    "# 2. Handling missing values"
   ]
  },
  {
   "cell_type": "code",
   "execution_count": 28,
   "metadata": {},
   "outputs": [],
   "source": [
    "df = pd.read_csv('/home/e0205142/project/MIMIC_assignment1/data/train_corrected_encoded.csv')"
   ]
  },
  {
   "cell_type": "code",
   "execution_count": 29,
   "metadata": {},
   "outputs": [],
   "source": [
    "na_df = df.isnull().sum()*100/len(df)"
   ]
  },
  {
   "cell_type": "code",
   "execution_count": 30,
   "metadata": {},
   "outputs": [
    {
     "data": {
      "text/plain": [
       "Text(0.5, 0, '% missing')"
      ]
     },
     "execution_count": 30,
     "metadata": {},
     "output_type": "execute_result"
    },
    {
     "data": {
      "image/png": "[encoded data removed]",
      "text/plain": [
       "<Figure size 432x288 with 1 Axes>"
      ]
     },
     "metadata": {
      "needs_background": "light"
     },
     "output_type": "display_data"
    }
   ],
   "source": [
    "ax = na_df[1:-1].plot.barh(title='missing value ratio for the features in the dataset')\n",
    "ax.set_xlabel(\"% missing\")"
   ]
  },
  {
   "cell_type": "markdown",
   "metadata": {},
   "source": [
    "### 2.1 drop features"
   ]
  },
  {
   "cell_type": "markdown",
   "metadata": {},
   "source": [
    "exclude Height, Capillary refill rate due to high proportion of missing values (>75%)"
   ]
  },
  {
   "cell_type": "code",
   "execution_count": 31,
   "metadata": {},
   "outputs": [],
   "source": [
    "df = df.drop(columns = ['Height', 'Capillary refill rate'])"
   ]
  },
  {
   "cell_type": "code",
   "execution_count": 32,
   "metadata": {},
   "outputs": [
    {
     "data": {
      "text/html": [
       "<div>\n",
       "<style scoped>\n",
       "    .dataframe tbody tr th:only-of-type {\n",
       "        vertical-align: middle;\n",
       "    }\n",
       "\n",
       "    .dataframe tbody tr th {\n",
       "        vertical-align: top;\n",
       "    }\n",
       "\n",
       "    .dataframe thead th {\n",
       "        text-align: right;\n",
       "    }\n",
       "</style>\n",
       "<table border=\"1\" class=\"dataframe\">\n",
       "  <thead>\n",
       "    <tr style=\"text-align: right;\">\n",
       "      <th></th>\n",
       "      <th>icustay id</th>\n",
       "      <th>Diastolic blood pressure</th>\n",
       "      <th>Fraction inspired oxygen</th>\n",
       "      <th>Glascow coma scale eye opening</th>\n",
       "      <th>Glascow coma scale motor response</th>\n",
       "      <th>Glascow coma scale total</th>\n",
       "      <th>Glascow coma scale verbal response</th>\n",
       "      <th>Glucose</th>\n",
       "      <th>Heart Rate</th>\n",
       "      <th>Mean blood pressure</th>\n",
       "      <th>Oxygen saturation</th>\n",
       "      <th>Respiratory rate</th>\n",
       "      <th>Systolic blood pressure</th>\n",
       "      <th>Temperature</th>\n",
       "      <th>Weight</th>\n",
       "      <th>pH</th>\n",
       "      <th>label</th>\n",
       "    </tr>\n",
       "  </thead>\n",
       "  <tbody>\n",
       "    <tr>\n",
       "      <th>0</th>\n",
       "      <td>58313_episode1_timeseries.csv</td>\n",
       "      <td>74.0</td>\n",
       "      <td>0.95</td>\n",
       "      <td>4.0</td>\n",
       "      <td>5.0</td>\n",
       "      <td>NaN</td>\n",
       "      <td>4.0</td>\n",
       "      <td>140.0</td>\n",
       "      <td>100.0</td>\n",
       "      <td>91.0</td>\n",
       "      <td>96.0</td>\n",
       "      <td>25.0</td>\n",
       "      <td>141.0</td>\n",
       "      <td>37.055556</td>\n",
       "      <td>52.389876</td>\n",
       "      <td>7.40</td>\n",
       "      <td>0.0</td>\n",
       "    </tr>\n",
       "    <tr>\n",
       "      <th>1</th>\n",
       "      <td>9498_episode1_timeseries.csv</td>\n",
       "      <td>46.0</td>\n",
       "      <td>NaN</td>\n",
       "      <td>4.0</td>\n",
       "      <td>6.0</td>\n",
       "      <td>15.0</td>\n",
       "      <td>5.0</td>\n",
       "      <td>127.0</td>\n",
       "      <td>93.0</td>\n",
       "      <td>61.0</td>\n",
       "      <td>94.0</td>\n",
       "      <td>19.0</td>\n",
       "      <td>96.0</td>\n",
       "      <td>36.000002</td>\n",
       "      <td>NaN</td>\n",
       "      <td>7.37</td>\n",
       "      <td>0.0</td>\n",
       "    </tr>\n",
       "    <tr>\n",
       "      <th>2</th>\n",
       "      <td>31641_episode2_timeseries.csv</td>\n",
       "      <td>48.0</td>\n",
       "      <td>NaN</td>\n",
       "      <td>3.0</td>\n",
       "      <td>6.0</td>\n",
       "      <td>NaN</td>\n",
       "      <td>5.0</td>\n",
       "      <td>138.0</td>\n",
       "      <td>66.0</td>\n",
       "      <td>72.0</td>\n",
       "      <td>97.0</td>\n",
       "      <td>16.0</td>\n",
       "      <td>115.0</td>\n",
       "      <td>36.111111</td>\n",
       "      <td>71.350022</td>\n",
       "      <td>NaN</td>\n",
       "      <td>0.0</td>\n",
       "    </tr>\n",
       "    <tr>\n",
       "      <th>3</th>\n",
       "      <td>66015_episode2_timeseries.csv</td>\n",
       "      <td>52.0</td>\n",
       "      <td>0.40</td>\n",
       "      <td>1.0</td>\n",
       "      <td>1.0</td>\n",
       "      <td>NaN</td>\n",
       "      <td>0.0</td>\n",
       "      <td>137.0</td>\n",
       "      <td>84.0</td>\n",
       "      <td>66.0</td>\n",
       "      <td>99.0</td>\n",
       "      <td>9.0</td>\n",
       "      <td>108.0</td>\n",
       "      <td>36.611111</td>\n",
       "      <td>68.265596</td>\n",
       "      <td>7.26</td>\n",
       "      <td>0.0</td>\n",
       "    </tr>\n",
       "    <tr>\n",
       "      <th>4</th>\n",
       "      <td>51795_episode1_timeseries.csv</td>\n",
       "      <td>85.0</td>\n",
       "      <td>NaN</td>\n",
       "      <td>4.0</td>\n",
       "      <td>6.0</td>\n",
       "      <td>NaN</td>\n",
       "      <td>5.0</td>\n",
       "      <td>144.0</td>\n",
       "      <td>114.0</td>\n",
       "      <td>96.0</td>\n",
       "      <td>97.0</td>\n",
       "      <td>30.0</td>\n",
       "      <td>132.0</td>\n",
       "      <td>37.055556</td>\n",
       "      <td>78.017824</td>\n",
       "      <td>7.48</td>\n",
       "      <td>0.0</td>\n",
       "    </tr>\n",
       "    <tr>\n",
       "      <th>...</th>\n",
       "      <td>...</td>\n",
       "      <td>...</td>\n",
       "      <td>...</td>\n",
       "      <td>...</td>\n",
       "      <td>...</td>\n",
       "      <td>...</td>\n",
       "      <td>...</td>\n",
       "      <td>...</td>\n",
       "      <td>...</td>\n",
       "      <td>...</td>\n",
       "      <td>...</td>\n",
       "      <td>...</td>\n",
       "      <td>...</td>\n",
       "      <td>...</td>\n",
       "      <td>...</td>\n",
       "      <td>...</td>\n",
       "      <td>...</td>\n",
       "    </tr>\n",
       "    <tr>\n",
       "      <th>17898</th>\n",
       "      <td>76799_episode1_timeseries.csv</td>\n",
       "      <td>82.0</td>\n",
       "      <td>1.00</td>\n",
       "      <td>4.0</td>\n",
       "      <td>6.0</td>\n",
       "      <td>NaN</td>\n",
       "      <td>5.0</td>\n",
       "      <td>147.0</td>\n",
       "      <td>86.0</td>\n",
       "      <td>87.0</td>\n",
       "      <td>99.0</td>\n",
       "      <td>16.0</td>\n",
       "      <td>144.0</td>\n",
       "      <td>36.888889</td>\n",
       "      <td>90.809118</td>\n",
       "      <td>6.50</td>\n",
       "      <td>0.0</td>\n",
       "    </tr>\n",
       "    <tr>\n",
       "      <th>17899</th>\n",
       "      <td>99288_episode1_timeseries.csv</td>\n",
       "      <td>35.0</td>\n",
       "      <td>0.40</td>\n",
       "      <td>3.0</td>\n",
       "      <td>6.0</td>\n",
       "      <td>NaN</td>\n",
       "      <td>0.0</td>\n",
       "      <td>184.0</td>\n",
       "      <td>64.0</td>\n",
       "      <td>61.0</td>\n",
       "      <td>100.0</td>\n",
       "      <td>16.0</td>\n",
       "      <td>137.0</td>\n",
       "      <td>36.777778</td>\n",
       "      <td>117.000000</td>\n",
       "      <td>7.36</td>\n",
       "      <td>0.0</td>\n",
       "    </tr>\n",
       "    <tr>\n",
       "      <th>17900</th>\n",
       "      <td>29502_episode2_timeseries.csv</td>\n",
       "      <td>71.0</td>\n",
       "      <td>NaN</td>\n",
       "      <td>4.0</td>\n",
       "      <td>6.0</td>\n",
       "      <td>15.0</td>\n",
       "      <td>5.0</td>\n",
       "      <td>88.0</td>\n",
       "      <td>102.0</td>\n",
       "      <td>83.0</td>\n",
       "      <td>98.0</td>\n",
       "      <td>17.0</td>\n",
       "      <td>125.0</td>\n",
       "      <td>37.055599</td>\n",
       "      <td>71.000000</td>\n",
       "      <td>NaN</td>\n",
       "      <td>0.0</td>\n",
       "    </tr>\n",
       "    <tr>\n",
       "      <th>17901</th>\n",
       "      <td>77280_episode1_timeseries.csv</td>\n",
       "      <td>62.0</td>\n",
       "      <td>NaN</td>\n",
       "      <td>4.0</td>\n",
       "      <td>6.0</td>\n",
       "      <td>NaN</td>\n",
       "      <td>4.0</td>\n",
       "      <td>119.0</td>\n",
       "      <td>67.0</td>\n",
       "      <td>73.0</td>\n",
       "      <td>100.0</td>\n",
       "      <td>11.0</td>\n",
       "      <td>114.0</td>\n",
       "      <td>35.555556</td>\n",
       "      <td>74.000000</td>\n",
       "      <td>7.42</td>\n",
       "      <td>0.0</td>\n",
       "    </tr>\n",
       "    <tr>\n",
       "      <th>17902</th>\n",
       "      <td>1530_episode1_timeseries.csv</td>\n",
       "      <td>74.0</td>\n",
       "      <td>NaN</td>\n",
       "      <td>4.0</td>\n",
       "      <td>6.0</td>\n",
       "      <td>15.0</td>\n",
       "      <td>5.0</td>\n",
       "      <td>151.0</td>\n",
       "      <td>104.0</td>\n",
       "      <td>89.0</td>\n",
       "      <td>95.0</td>\n",
       "      <td>13.0</td>\n",
       "      <td>122.0</td>\n",
       "      <td>36.722221</td>\n",
       "      <td>96.800003</td>\n",
       "      <td>7.36</td>\n",
       "      <td>0.0</td>\n",
       "    </tr>\n",
       "  </tbody>\n",
       "</table>\n",
       "<p>17903 rows × 17 columns</p>\n",
       "</div>"
      ],
      "text/plain": [
       "                          icustay id  Diastolic blood pressure  \\\n",
       "0      58313_episode1_timeseries.csv                      74.0   \n",
       "1       9498_episode1_timeseries.csv                      46.0   \n",
       "2      31641_episode2_timeseries.csv                      48.0   \n",
       "3      66015_episode2_timeseries.csv                      52.0   \n",
       "4      51795_episode1_timeseries.csv                      85.0   \n",
       "...                              ...                       ...   \n",
       "17898  76799_episode1_timeseries.csv                      82.0   \n",
       "17899  99288_episode1_timeseries.csv                      35.0   \n",
       "17900  29502_episode2_timeseries.csv                      71.0   \n",
       "17901  77280_episode1_timeseries.csv                      62.0   \n",
       "17902   1530_episode1_timeseries.csv                      74.0   \n",
       "\n",
       "       Fraction inspired oxygen  Glascow coma scale eye opening  \\\n",
       "0                          0.95                             4.0   \n",
       "1                           NaN                             4.0   \n",
       "2                           NaN                             3.0   \n",
       "3                          0.40                             1.0   \n",
       "4                           NaN                             4.0   \n",
       "...                         ...                             ...   \n",
       "17898                      1.00                             4.0   \n",
       "17899                      0.40                             3.0   \n",
       "17900                       NaN                             4.0   \n",
       "17901                       NaN                             4.0   \n",
       "17902                       NaN                             4.0   \n",
       "\n",
       "       Glascow coma scale motor response  Glascow coma scale total  \\\n",
       "0                                    5.0                       NaN   \n",
       "1                                    6.0                      15.0   \n",
       "2                                    6.0                       NaN   \n",
       "3                                    1.0                       NaN   \n",
       "4                                    6.0                       NaN   \n",
       "...                                  ...                       ...   \n",
       "17898                                6.0                       NaN   \n",
       "17899                                6.0                       NaN   \n",
       "17900                                6.0                      15.0   \n",
       "17901                                6.0                       NaN   \n",
       "17902                                6.0                      15.0   \n",
       "\n",
       "       Glascow coma scale verbal response  Glucose  Heart Rate  \\\n",
       "0                                     4.0    140.0       100.0   \n",
       "1                                     5.0    127.0        93.0   \n",
       "2                                     5.0    138.0        66.0   \n",
       "3                                     0.0    137.0        84.0   \n",
       "4                                     5.0    144.0       114.0   \n",
       "...                                   ...      ...         ...   \n",
       "17898                                 5.0    147.0        86.0   \n",
       "17899                                 0.0    184.0        64.0   \n",
       "17900                                 5.0     88.0       102.0   \n",
       "17901                                 4.0    119.0        67.0   \n",
       "17902                                 5.0    151.0       104.0   \n",
       "\n",
       "       Mean blood pressure  Oxygen saturation  Respiratory rate  \\\n",
       "0                     91.0               96.0              25.0   \n",
       "1                     61.0               94.0              19.0   \n",
       "2                     72.0               97.0              16.0   \n",
       "3                     66.0               99.0               9.0   \n",
       "4                     96.0               97.0              30.0   \n",
       "...                    ...                ...               ...   \n",
       "17898                 87.0               99.0              16.0   \n",
       "17899                 61.0              100.0              16.0   \n",
       "17900                 83.0               98.0              17.0   \n",
       "17901                 73.0              100.0              11.0   \n",
       "17902                 89.0               95.0              13.0   \n",
       "\n",
       "       Systolic blood pressure  Temperature      Weight    pH  label  \n",
       "0                        141.0    37.055556   52.389876  7.40    0.0  \n",
       "1                         96.0    36.000002         NaN  7.37    0.0  \n",
       "2                        115.0    36.111111   71.350022   NaN    0.0  \n",
       "3                        108.0    36.611111   68.265596  7.26    0.0  \n",
       "4                        132.0    37.055556   78.017824  7.48    0.0  \n",
       "...                        ...          ...         ...   ...    ...  \n",
       "17898                    144.0    36.888889   90.809118  6.50    0.0  \n",
       "17899                    137.0    36.777778  117.000000  7.36    0.0  \n",
       "17900                    125.0    37.055599   71.000000   NaN    0.0  \n",
       "17901                    114.0    35.555556   74.000000  7.42    0.0  \n",
       "17902                    122.0    36.722221   96.800003  7.36    0.0  \n",
       "\n",
       "[17903 rows x 17 columns]"
      ]
     },
     "execution_count": 32,
     "metadata": {},
     "output_type": "execute_result"
    }
   ],
   "source": [
    "df"
   ]
  },
  {
   "cell_type": "code",
   "execution_count": 33,
   "metadata": {},
   "outputs": [],
   "source": [
    "X = df.iloc[:, 1:-1].values\n",
    "y = df.iloc[:, -1].values"
   ]
  },
  {
   "cell_type": "code",
   "execution_count": 34,
   "metadata": {},
   "outputs": [
    {
     "name": "stdout",
     "output_type": "stream",
     "text": [
      "(17903, 15)\n",
      "(17903,)\n"
     ]
    }
   ],
   "source": [
    "print(X.shape)\n",
    "print(y.shape)"
   ]
  },
  {
   "cell_type": "markdown",
   "metadata": {},
   "source": [
    "### 2.2 kNN imputation for missing values"
   ]
  },
  {
   "cell_type": "code",
   "execution_count": 35,
   "metadata": {},
   "outputs": [
    {
     "data": {
      "text/plain": [
       "KNNImputer()"
      ]
     },
     "execution_count": 35,
     "metadata": {},
     "output_type": "execute_result"
    }
   ],
   "source": [
    "scaler = MinMaxScaler()\n",
    "scaler.fit(X)\n",
    "X = scaler.transform(X)\n",
    "\n",
    "imputer = KNNImputer(n_neighbors=5, weights='uniform', metric='nan_euclidean')\n",
    "# fit on the dataset\n",
    "imputer.fit(X)"
   ]
  },
  {
   "cell_type": "code",
   "execution_count": 36,
   "metadata": {},
   "outputs": [],
   "source": [
    "# transform the dataset\n",
    "Xtrans = imputer.transform(X)"
   ]
  },
  {
   "cell_type": "code",
   "execution_count": 37,
   "metadata": {},
   "outputs": [
    {
     "name": "stdout",
     "output_type": "stream",
     "text": [
      "Missing: 0\n"
     ]
    }
   ],
   "source": [
    "# print total missing\n",
    "print('Missing: %d' % sum(np.isnan(Xtrans).flatten()))"
   ]
  },
  {
   "cell_type": "code",
   "execution_count": 38,
   "metadata": {},
   "outputs": [
    {
     "data": {
      "text/plain": [
       "(17903, 15)"
      ]
     },
     "execution_count": 38,
     "metadata": {},
     "output_type": "execute_result"
    }
   ],
   "source": [
    "X.shape"
   ]
  },
  {
   "cell_type": "code",
   "execution_count": 39,
   "metadata": {},
   "outputs": [],
   "source": [
    "pd.DataFrame(data=np.hstack((Xtrans, y.reshape(-1, 1))), index=df['icustay id'], columns=df.keys()[1:]).to_csv('/home/e0205142/project/MIMIC_assignment1/data/train_corrected_encoded_imputed.csv', index=True)"
   ]
  },
  {
   "cell_type": "markdown",
   "metadata": {},
   "source": [
    "## Oversampling training set"
   ]
  },
  {
   "cell_type": "code",
   "execution_count": 40,
   "metadata": {},
   "outputs": [],
   "source": [
    "# from imblearn.over_sampling import RandomOverSampler\n",
    "# # define oversampling strategy\n",
    "# oversample = RandomOverSampler(sampling_strategy='minority')\n",
    "# # fit and apply the transform\n",
    "# X_train_over, y_train_over = oversample.fit_resample(X_train, y_train)"
   ]
  },
  {
   "cell_type": "markdown",
   "metadata": {},
   "source": [
    "### fix multicollinear features"
   ]
  },
  {
   "cell_type": "code",
   "execution_count": 41,
   "metadata": {},
   "outputs": [],
   "source": [
    "df = pd.read_csv('/home/e0205142/project/MIMIC_assignment1/data/train_corrected_encoded_imputed.csv')"
   ]
  },
  {
   "cell_type": "code",
   "execution_count": 42,
   "metadata": {},
   "outputs": [],
   "source": [
    "y = df.iloc[:, -1].values"
   ]
  },
  {
   "cell_type": "code",
   "execution_count": 43,
   "metadata": {},
   "outputs": [
    {
     "data": {
      "image/png": "[encoded data removed]",
      "text/plain": [
       "<Figure size 864x432 with 2 Axes>"
      ]
     },
     "metadata": {
      "needs_background": "light"
     },
     "output_type": "display_data"
    }
   ],
   "source": [
    "# calculate pearson correlation between features\n",
    "var_cor = df.iloc[:, 1:-1].corr()\n",
    "\n",
    "import seaborn as sns\n",
    "plt.figure(figsize=[12, 6])\n",
    "sns.heatmap(var_cor, annot=True, annot_kws={\"fontsize\":8})\n",
    "plt.show()"
   ]
  },
  {
   "cell_type": "code",
   "execution_count": 44,
   "metadata": {},
   "outputs": [
    {
     "data": {
      "image/png": "[encoded data removed]",
      "text/plain": [
       "<Figure size 864x576 with 2 Axes>"
      ]
     },
     "metadata": {
      "needs_background": "light"
     },
     "output_type": "display_data"
    }
   ],
   "source": [
    "# One way to handle multicollinear features is by performing hierarchical clustering \n",
    "# on the correlations, picking a threshold, and keeping a single feature from each cluster. \n",
    "# First, we plot a heatmap of the correlated features:\n",
    "\n",
    "from scipy.cluster import hierarchy\n",
    "from scipy.spatial.distance import squareform\n",
    "\n",
    "fig, (ax1, ax2) = plt.subplots(1, 2, figsize=(12, 8))\n",
    "\n",
    "# We convert the correlation matrix to a distance matrix before performing\n",
    "# hierarchical clustering using Ward's linkage.\n",
    "corr = var_cor.to_numpy()\n",
    "distance_matrix = 1 - np.abs(corr)\n",
    "dist_linkage = hierarchy.ward(squareform(distance_matrix))\n",
    "dendro = hierarchy.dendrogram(\n",
    "    dist_linkage, labels=var_cor.keys(), ax=ax1, leaf_rotation=90\n",
    ")\n",
    "dendro_idx = np.arange(0, len(dendro[\"ivl\"]))\n",
    "\n",
    "ax2.imshow(corr[dendro[\"leaves\"], :][:, dendro[\"leaves\"]])\n",
    "ax2.set_xticks(dendro_idx)\n",
    "ax2.set_yticks(dendro_idx)\n",
    "ax2.set_xticklabels(dendro[\"ivl\"], rotation=\"vertical\")\n",
    "ax2.set_yticklabels(dendro[\"ivl\"])\n",
    "fig.tight_layout()\n",
    "plt.show()"
   ]
  },
  {
   "cell_type": "code",
   "execution_count": 45,
   "metadata": {},
   "outputs": [
    {
     "name": "stdout",
     "output_type": "stream",
     "text": [
      "defaultdict(<class 'list'>, {1: [0, 8, 11], 3: [1], 2: [2, 3, 4, 5], 7: [6], 4: [7], 10: [9], 5: [10], 6: [12], 9: [13], 8: [14]})\n"
     ]
    }
   ],
   "source": [
    "# pick a threshold by visual inspection of the dendrogram to group features into clusters\n",
    "# and choose a feature from each cluster to keep based on t-test.\n",
    "\n",
    "from collections import defaultdict\n",
    "\n",
    "cluster_ids = hierarchy.fcluster(dist_linkage, 0.5, criterion=\"distance\")\n",
    "cluster_id_to_feature_ids = defaultdict(list)\n",
    "for idx, cluster_id in enumerate(cluster_ids):\n",
    "    cluster_id_to_feature_ids[cluster_id].append(idx)\n",
    "\n",
    "print(cluster_id_to_feature_ids)\n",
    "\n",
    "selected_features = [v[0] for v in cluster_id_to_feature_ids.values()]"
   ]
  },
  {
   "cell_type": "code",
   "execution_count": 46,
   "metadata": {},
   "outputs": [
    {
     "name": "stdout",
     "output_type": "stream",
     "text": [
      "[0, 1, 2, 6, 7, 9, 10, 12, 13, 14]\n"
     ]
    }
   ],
   "source": [
    "print(selected_features)"
   ]
  },
  {
   "cell_type": "code",
   "execution_count": 47,
   "metadata": {},
   "outputs": [],
   "source": [
    "df = df.iloc[:,1:-1]\n",
    "df = df.iloc[:, selected_features]"
   ]
  },
  {
   "cell_type": "code",
   "execution_count": 48,
   "metadata": {},
   "outputs": [
    {
     "data": {
      "text/html": [
       "<div>\n",
       "<style scoped>\n",
       "    .dataframe tbody tr th:only-of-type {\n",
       "        vertical-align: middle;\n",
       "    }\n",
       "\n",
       "    .dataframe tbody tr th {\n",
       "        vertical-align: top;\n",
       "    }\n",
       "\n",
       "    .dataframe thead th {\n",
       "        text-align: right;\n",
       "    }\n",
       "</style>\n",
       "<table border=\"1\" class=\"dataframe\">\n",
       "  <thead>\n",
       "    <tr style=\"text-align: right;\">\n",
       "      <th></th>\n",
       "      <th>Diastolic blood pressure</th>\n",
       "      <th>Fraction inspired oxygen</th>\n",
       "      <th>Glascow coma scale eye opening</th>\n",
       "      <th>Glucose</th>\n",
       "      <th>Heart Rate</th>\n",
       "      <th>Oxygen saturation</th>\n",
       "      <th>Respiratory rate</th>\n",
       "      <th>Temperature</th>\n",
       "      <th>Weight</th>\n",
       "      <th>pH</th>\n",
       "    </tr>\n",
       "  </thead>\n",
       "  <tbody>\n",
       "    <tr>\n",
       "      <th>0</th>\n",
       "      <td>0.496644</td>\n",
       "      <td>0.950</td>\n",
       "      <td>1.000000</td>\n",
       "      <td>0.115702</td>\n",
       "      <td>0.526316</td>\n",
       "      <td>0.96</td>\n",
       "      <td>0.217391</td>\n",
       "      <td>0.677536</td>\n",
       "      <td>0.209560</td>\n",
       "      <td>0.700</td>\n",
       "    </tr>\n",
       "    <tr>\n",
       "      <th>1</th>\n",
       "      <td>0.308725</td>\n",
       "      <td>0.820</td>\n",
       "      <td>1.000000</td>\n",
       "      <td>0.104959</td>\n",
       "      <td>0.489474</td>\n",
       "      <td>0.94</td>\n",
       "      <td>0.165217</td>\n",
       "      <td>0.608695</td>\n",
       "      <td>0.294758</td>\n",
       "      <td>0.685</td>\n",
       "    </tr>\n",
       "    <tr>\n",
       "      <th>2</th>\n",
       "      <td>0.322148</td>\n",
       "      <td>0.836</td>\n",
       "      <td>0.666667</td>\n",
       "      <td>0.114050</td>\n",
       "      <td>0.347368</td>\n",
       "      <td>0.97</td>\n",
       "      <td>0.139130</td>\n",
       "      <td>0.615941</td>\n",
       "      <td>0.285400</td>\n",
       "      <td>0.612</td>\n",
       "    </tr>\n",
       "    <tr>\n",
       "      <th>3</th>\n",
       "      <td>0.348993</td>\n",
       "      <td>0.400</td>\n",
       "      <td>0.000000</td>\n",
       "      <td>0.113223</td>\n",
       "      <td>0.442105</td>\n",
       "      <td>0.99</td>\n",
       "      <td>0.078261</td>\n",
       "      <td>0.648550</td>\n",
       "      <td>0.273062</td>\n",
       "      <td>0.630</td>\n",
       "    </tr>\n",
       "    <tr>\n",
       "      <th>4</th>\n",
       "      <td>0.570470</td>\n",
       "      <td>0.560</td>\n",
       "      <td>1.000000</td>\n",
       "      <td>0.119008</td>\n",
       "      <td>0.600000</td>\n",
       "      <td>0.97</td>\n",
       "      <td>0.260870</td>\n",
       "      <td>0.677536</td>\n",
       "      <td>0.312071</td>\n",
       "      <td>0.740</td>\n",
       "    </tr>\n",
       "    <tr>\n",
       "      <th>...</th>\n",
       "      <td>...</td>\n",
       "      <td>...</td>\n",
       "      <td>...</td>\n",
       "      <td>...</td>\n",
       "      <td>...</td>\n",
       "      <td>...</td>\n",
       "      <td>...</td>\n",
       "      <td>...</td>\n",
       "      <td>...</td>\n",
       "      <td>...</td>\n",
       "    </tr>\n",
       "    <tr>\n",
       "      <th>17898</th>\n",
       "      <td>0.550336</td>\n",
       "      <td>1.000</td>\n",
       "      <td>1.000000</td>\n",
       "      <td>0.121488</td>\n",
       "      <td>0.452632</td>\n",
       "      <td>0.99</td>\n",
       "      <td>0.139130</td>\n",
       "      <td>0.666666</td>\n",
       "      <td>0.363236</td>\n",
       "      <td>0.250</td>\n",
       "    </tr>\n",
       "    <tr>\n",
       "      <th>17899</th>\n",
       "      <td>0.234899</td>\n",
       "      <td>0.400</td>\n",
       "      <td>0.666667</td>\n",
       "      <td>0.152066</td>\n",
       "      <td>0.336842</td>\n",
       "      <td>1.00</td>\n",
       "      <td>0.139130</td>\n",
       "      <td>0.659420</td>\n",
       "      <td>0.468000</td>\n",
       "      <td>0.680</td>\n",
       "    </tr>\n",
       "    <tr>\n",
       "      <th>17900</th>\n",
       "      <td>0.476510</td>\n",
       "      <td>0.680</td>\n",
       "      <td>1.000000</td>\n",
       "      <td>0.072727</td>\n",
       "      <td>0.536842</td>\n",
       "      <td>0.98</td>\n",
       "      <td>0.147826</td>\n",
       "      <td>0.677538</td>\n",
       "      <td>0.284000</td>\n",
       "      <td>0.711</td>\n",
       "    </tr>\n",
       "    <tr>\n",
       "      <th>17901</th>\n",
       "      <td>0.416107</td>\n",
       "      <td>0.640</td>\n",
       "      <td>1.000000</td>\n",
       "      <td>0.098347</td>\n",
       "      <td>0.352632</td>\n",
       "      <td>1.00</td>\n",
       "      <td>0.095652</td>\n",
       "      <td>0.579709</td>\n",
       "      <td>0.296000</td>\n",
       "      <td>0.710</td>\n",
       "    </tr>\n",
       "    <tr>\n",
       "      <th>17902</th>\n",
       "      <td>0.496644</td>\n",
       "      <td>0.630</td>\n",
       "      <td>1.000000</td>\n",
       "      <td>0.124793</td>\n",
       "      <td>0.547368</td>\n",
       "      <td>0.95</td>\n",
       "      <td>0.113043</td>\n",
       "      <td>0.655796</td>\n",
       "      <td>0.387200</td>\n",
       "      <td>0.680</td>\n",
       "    </tr>\n",
       "  </tbody>\n",
       "</table>\n",
       "<p>17903 rows × 10 columns</p>\n",
       "</div>"
      ],
      "text/plain": [
       "       Diastolic blood pressure  Fraction inspired oxygen  \\\n",
       "0                      0.496644                     0.950   \n",
       "1                      0.308725                     0.820   \n",
       "2                      0.322148                     0.836   \n",
       "3                      0.348993                     0.400   \n",
       "4                      0.570470                     0.560   \n",
       "...                         ...                       ...   \n",
       "17898                  0.550336                     1.000   \n",
       "17899                  0.234899                     0.400   \n",
       "17900                  0.476510                     0.680   \n",
       "17901                  0.416107                     0.640   \n",
       "17902                  0.496644                     0.630   \n",
       "\n",
       "       Glascow coma scale eye opening   Glucose  Heart Rate  \\\n",
       "0                            1.000000  0.115702    0.526316   \n",
       "1                            1.000000  0.104959    0.489474   \n",
       "2                            0.666667  0.114050    0.347368   \n",
       "3                            0.000000  0.113223    0.442105   \n",
       "4                            1.000000  0.119008    0.600000   \n",
       "...                               ...       ...         ...   \n",
       "17898                        1.000000  0.121488    0.452632   \n",
       "17899                        0.666667  0.152066    0.336842   \n",
       "17900                        1.000000  0.072727    0.536842   \n",
       "17901                        1.000000  0.098347    0.352632   \n",
       "17902                        1.000000  0.124793    0.547368   \n",
       "\n",
       "       Oxygen saturation  Respiratory rate  Temperature    Weight     pH  \n",
       "0                   0.96          0.217391     0.677536  0.209560  0.700  \n",
       "1                   0.94          0.165217     0.608695  0.294758  0.685  \n",
       "2                   0.97          0.139130     0.615941  0.285400  0.612  \n",
       "3                   0.99          0.078261     0.648550  0.273062  0.630  \n",
       "4                   0.97          0.260870     0.677536  0.312071  0.740  \n",
       "...                  ...               ...          ...       ...    ...  \n",
       "17898               0.99          0.139130     0.666666  0.363236  0.250  \n",
       "17899               1.00          0.139130     0.659420  0.468000  0.680  \n",
       "17900               0.98          0.147826     0.677538  0.284000  0.711  \n",
       "17901               1.00          0.095652     0.579709  0.296000  0.710  \n",
       "17902               0.95          0.113043     0.655796  0.387200  0.680  \n",
       "\n",
       "[17903 rows x 10 columns]"
      ]
     },
     "execution_count": 48,
     "metadata": {},
     "output_type": "execute_result"
    }
   ],
   "source": [
    "df"
   ]
  },
  {
   "cell_type": "code",
   "execution_count": 49,
   "metadata": {},
   "outputs": [
    {
     "data": {
      "text/plain": [
       "(array([0., 1.]), array([15480,  2423]))"
      ]
     },
     "execution_count": 49,
     "metadata": {},
     "output_type": "execute_result"
    }
   ],
   "source": [
    "np.unique(y, return_counts=True)"
   ]
  },
  {
   "cell_type": "code",
   "execution_count": 76,
   "metadata": {},
   "outputs": [
    {
     "data": {
      "text/plain": [
       "Index(['Diastolic blood pressure', 'Fraction inspired oxygen',\n",
       "       'Glascow coma scale eye opening', 'Glucose', 'Heart Rate',\n",
       "       'Oxygen saturation', 'Respiratory rate', 'Temperature', 'Weight', 'pH'],\n",
       "      dtype='object')"
      ]
     },
     "execution_count": 76,
     "metadata": {},
     "output_type": "execute_result"
    }
   ],
   "source": [
    "df.keys()"
   ]
  },
  {
   "cell_type": "markdown",
   "metadata": {},
   "source": [
    "## Dataset split"
   ]
  },
  {
   "cell_type": "code",
   "execution_count": 50,
   "metadata": {},
   "outputs": [
    {
     "name": "stdout",
     "output_type": "stream",
     "text": [
      "(17903, 10)\n",
      "(17903,)\n"
     ]
    }
   ],
   "source": [
    "X = df.iloc[:, :].values\n",
    "\n",
    "print(X.shape)\n",
    "print(y.shape)\n",
    "\n",
    "scaler = StandardScaler()\n",
    "scaler.fit(X)\n",
    "X = scaler.transform(X)\n",
    "\n",
    "X_train, X_test, y_train, y_test = train_test_split(X, y, test_size=0.2, random_state=1)\n",
    "X_train, X_val, y_train, y_val = train_test_split(X_train, y_train, test_size=0.25, random_state=1)"
   ]
  },
  {
   "cell_type": "markdown",
   "metadata": {},
   "source": [
    "## Baseline (after oversampling before feature selection)"
   ]
  },
  {
   "cell_type": "code",
   "execution_count": 51,
   "metadata": {},
   "outputs": [
    {
     "name": "stdout",
     "output_type": "stream",
     "text": [
      "---LR finished in 8.252235174179077 seconds ---\n",
      ">LR: test AUC 0.661\n",
      "---DT finished in 0.3276820182800293 seconds ---\n",
      ">DT: test AUC 0.528\n",
      "---RF finished in 17.16439390182495 seconds ---\n",
      ">RF: test AUC 0.699\n",
      "---AdaBoost finished in 96.26667404174805 seconds ---\n",
      ">AdaBoost: test AUC 0.685\n",
      "---GBM finished in 513.5383820533752 seconds ---\n",
      ">GBM: test AUC 0.717\n",
      "---SVM finished in 642.0377128124237 seconds ---\n",
      ">SVM: test AUC 0.715\n"
     ]
    }
   ],
   "source": [
    "models = [\n",
    "          ('LR', LogisticRegression(class_weight = 'balanced')), \n",
    "          ('DT', DecisionTreeClassifier(class_weight = 'balanced')),\n",
    "          ('RF', RandomForestClassifier(class_weight = 'balanced')),\n",
    "          ('AdaBoost', AdaBoostClassifier(n_estimators=1000)),\n",
    "          ('GBM', GradientBoostingClassifier(n_estimators=1000)),\n",
    "          ('SVM', SVC(probability=True, class_weight = 'balanced'))\n",
    "        ]\n",
    "\n",
    "# Parameter tuning grids-------------------------\n",
    "LR_params = [{'C': [ 10, 1.0, 0.1, 0.01]}]\n",
    "DT_params = [{}]\n",
    "RF_params = [{'n_estimators': [50, 100, 500]}]\n",
    "Gradient_params = [{'learning_rate': [0.001, 0.01, 0.1], 'n_estimators': [500, 1000], 'subsample': [0.5, 0.7, 1.0], 'max_depth': [3, 7, 9]}]\n",
    "Ada_params = [{'learning_rate': [0.001, 0.01, 0.1], 'n_estimators': [500, 1000], 'base_estimator': [DecisionTreeClassifier(max_depth=1, class_weight = 'balanced'), DecisionTreeClassifier(max_depth=5, class_weight = 'balanced')]}]\n",
    "SVM_params =[{'kernel': ['linear', 'poly', 'rbf'], 'C': [100, 10, 1.0, 0.1, 0.001]}]\n",
    "\n",
    "my_grid ={'LR': LR_params,\n",
    "         'DT': DT_params,\n",
    "         'RF': RF_params,\n",
    "         'AdaBoost': Ada_params,\n",
    "         'GBM': Gradient_params,\n",
    "         'SVM': SVM_params}\n",
    "\n",
    "# Model Training and Evaluation-------------------\n",
    "train_acc, test_acc, train_auc, test_auc = [], [], [], []\n",
    "names = []\n",
    "runtimes = []\n",
    "best_params = []\n",
    "clfs = []\n",
    "\n",
    "for name, model in models:\n",
    "    start_time = time.time()\n",
    "    \n",
    "    clf = GridSearchCV(model, my_grid[name], cv = 5, scoring='roc_auc', n_jobs=10)\n",
    "    clf.fit(X_train, y_train)\n",
    "\n",
    "    y_train_pred = clf.predict(X_train)\n",
    "    y_train_score = clf.predict_proba(X_train)\n",
    "    y_test_pred = clf.predict(X_test)\n",
    "    y_test_score = clf.predict_proba(X_test)\n",
    "    #cv_results.append(cv_result)\n",
    "    runtime = (time.time() - start_time)\n",
    "    \n",
    "    train_acc.append(balanced_accuracy_score(y_train, y_train_pred))\n",
    "    test_acc.append(balanced_accuracy_score(y_test, y_test_pred))\n",
    "    train_auc.append(roc_auc_score(y_train, y_train_score[:, 1]))\n",
    "    test_auc.append(roc_auc_score(y_test, y_test_score[:, 1]))\n",
    "    \n",
    "    best_params.append(clf.best_params_)\n",
    "    clfs.append(clf)\n",
    "    \n",
    "    names.append(name)\n",
    "    runtimes.append(runtime)\n",
    "    print(\"---%s finished in %s seconds ---\" % (name, runtime))\n",
    "    print('>%s: test AUC %.3f' % (name, roc_auc_score(y_test, y_test_score[:, 1])))\n",
    "\n",
    "scores_df = pd.DataFrame({'train_acc':train_acc, \n",
    "                          'test_acc':test_acc, \n",
    "                          'train_auc':train_auc,\n",
    "                          'test_auc':test_auc, \n",
    "                          'runtime(s)':runtimes}, index=names)"
   ]
  },
  {
   "cell_type": "code",
   "execution_count": 52,
   "metadata": {},
   "outputs": [],
   "source": [
    "# save data\n",
    "# 1. scores and running time\n",
    "scores_df.to_csv('/home/e0205142/project/MIMIC_assignment1/results/baseline_after_all_preprocess_before_feature_selection.csv', index=True)\n",
    "\n",
    "# 2. model parameters\n",
    "with open('/home/e0205142/project/MIMIC_assignment1/results/all_models_best_params.txt', 'w') as f:\n",
    "    for name, para in zip(names, best_params):\n",
    "        print(name, para, file=f)\n",
    "\n",
    "# 3. models\n",
    "with open('/home/e0205142/project/MIMIC_assignment1/results/clfs.pkl','wb') as f :\n",
    "    pickle.dump(clfs, f, protocol=pickle.HIGHEST_PROTOCOL)\n",
    "    f.close()"
   ]
  },
  {
   "cell_type": "markdown",
   "metadata": {},
   "source": [
    "## Feature selection"
   ]
  },
  {
   "cell_type": "code",
   "execution_count": 53,
   "metadata": {},
   "outputs": [],
   "source": [
    "# # define oversampling strategy\n",
    "# oversample = RandomOverSampler(sampling_strategy='minority')\n",
    "# # fit and apply the transform\n",
    "# X_train_over, y_train_over = oversample.fit_resample(X_train, y_train)"
   ]
  },
  {
   "cell_type": "markdown",
   "metadata": {},
   "source": [
    "## Genetic algrithom"
   ]
  },
  {
   "cell_type": "code",
   "execution_count": 54,
   "metadata": {},
   "outputs": [],
   "source": [
    "# estimators = LogisticRegression(solver=\"liblinear\", multi_class=\"ovr\")\n",
    "# estimators = RandomForestClassifier(n_estimators = 100)\n",
    "# selectors = GeneticSelectionCV(estimators,\n",
    "#                                   cv=5,\n",
    "#                                   verbose=2,\n",
    "#                                   scoring=\"roc_auc\",\n",
    "#                                   max_features=10,\n",
    "#                                   n_population=60,\n",
    "#                                   crossover_proba=0.6,\n",
    "#                                   mutation_proba=0.2,\n",
    "#                                   n_generations=40,\n",
    "#                                   crossover_independent_proba=0.6,\n",
    "#                                   mutation_independent_proba=0.06,\n",
    "#                                   tournament_size=4,\n",
    "#                                   n_gen_no_change=20,\n",
    "#                                   caching=True,\n",
    "#                                   n_jobs=10)\n",
    "# selectors = selectors.fit(X_train_over, y_train_over)\n",
    "\n",
    "# print(selectors.support_)\n"
   ]
  },
  {
   "cell_type": "markdown",
   "metadata": {},
   "source": [
    "## SVM-RFE"
   ]
  },
  {
   "cell_type": "code",
   "execution_count": 55,
   "metadata": {},
   "outputs": [],
   "source": [
    "# # automatically choose the number of features\n",
    "# rfe = RFECV(estimator=SVC())"
   ]
  },
  {
   "cell_type": "markdown",
   "metadata": {},
   "source": [
    "### Permutation scores"
   ]
  },
  {
   "cell_type": "code",
   "execution_count": 56,
   "metadata": {},
   "outputs": [
    {
     "name": "stdout",
     "output_type": "stream",
     "text": [
      "---Feature selection finished in 31.705532789230347 seconds ---\n"
     ]
    }
   ],
   "source": [
    "start_time = time.time()\n",
    "\n",
    "selector = RandomForestClassifier(random_state=42, n_jobs = 2, n_estimators=500, class_weight = 'balanced')\n",
    "selector.fit(X_train, y_train)\n",
    "\n",
    "perm_score = permutation_importance(selector, X_train, y_train, n_repeats=10, random_state=42, n_jobs=5)\n",
    "#sorted_idx = perm_score.importances_mean.argsort() # from low to high\n",
    "\n",
    "print(\"---Feature selection finished in %s seconds ---\" %  (time.time() - start_time))"
   ]
  },
  {
   "cell_type": "code",
   "execution_count": 57,
   "metadata": {},
   "outputs": [
    {
     "data": {
      "text/plain": [
       "array([5, 9, 1, 2, 8, 7, 3, 0, 4, 6])"
      ]
     },
     "execution_count": 57,
     "metadata": {},
     "output_type": "execute_result"
    }
   ],
   "source": [
    "sorted_idx = perm_score.importances_mean.argsort() # from low to high\n",
    "sorted_idx"
   ]
  },
  {
   "cell_type": "code",
   "execution_count": 75,
   "metadata": {},
   "outputs": [
    {
     "data": {
      "text/plain": [
       "0.04704403686807559"
      ]
     },
     "execution_count": 75,
     "metadata": {},
     "output_type": "execute_result"
    }
   ],
   "source": [
    "perm_score.importances[sorted_idx][-1].mean()"
   ]
  },
  {
   "cell_type": "code",
   "execution_count": 58,
   "metadata": {},
   "outputs": [
    {
     "data": {
      "image/png": "[encoded data removed]",
      "text/plain": [
       "<Figure size 1008x432 with 1 Axes>"
      ]
     },
     "metadata": {
      "needs_background": "light"
     },
     "output_type": "display_data"
    }
   ],
   "source": [
    "fig, ax = plt.subplots(figsize=(14,6))\n",
    "ax.boxplot(perm_score.importances[sorted_idx].T, vert=False, labels=df.iloc[:, :].columns[sorted_idx])\n",
    "plt.xlabel('Permutation Importances (train set)', fontsize=18)\n",
    "plt.xticks(fontsize= 16)\n",
    "plt.yticks(fontsize= 16)\n",
    "fig.tight_layout()\n",
    "plt.show()"
   ]
  },
  {
   "cell_type": "code",
   "execution_count": 59,
   "metadata": {},
   "outputs": [
    {
     "name": "stdout",
     "output_type": "stream",
     "text": [
      "0\n",
      "1\n",
      "2\n",
      "3\n",
      "4\n",
      "5\n",
      "6\n",
      "7\n",
      "8\n",
      "9\n"
     ]
    }
   ],
   "source": [
    "parsi = {}\n",
    "scoring = {'acc': 'accuracy',\n",
    "           'auc': 'roc_auc'}\n",
    "\n",
    "sorted_idx = sorted_idx[::-1]\n",
    "\n",
    "val_auc = []\n",
    "val_acc = []\n",
    "\n",
    "for k in range(len(sorted_idx)):\n",
    "    subset = X_train[:, sorted_idx[:k+1]]\n",
    "    selector.fit(subset, y_train)\n",
    "    \n",
    "    y_val_pred = selector.predict(X_val[:, sorted_idx[:k+1]])\n",
    "    y_val_score = selector.predict_proba(X_val[:, sorted_idx[:k+1]])\n",
    "\n",
    "    #cv_results.append(cv_result)\n",
    "    runtime = (time.time() - start_time)\n",
    "    \n",
    "    val_acc.append(accuracy_score(y_val, y_val_pred))\n",
    "    val_auc.append(roc_auc_score(y_val, y_val_score[:, 1]))\n",
    "\n",
    "    print(k)"
   ]
  },
  {
   "cell_type": "code",
   "execution_count": 60,
   "metadata": {},
   "outputs": [
    {
     "name": "stdout",
     "output_type": "stream",
     "text": [
      "[0.5768090366326424, 0.530853725621262, 0.580290691701378, 0.5844043700639435, 0.6230406952776416, 0.6272395537343344, 0.6742635173006624, 0.6843898699410502, 0.6918454039812265, 0.6840257412943993]\n",
      "[0.5847528623289584, 0.7070650656241273, 0.8335660430047472, 0.854789165037699, 0.8573024294889695, 0.8600949455459369, 0.8612119519687238, 0.8612119519687238, 0.8603741971516337, 0.8606534487573304]\n"
     ]
    }
   ],
   "source": [
    "print(val_auc)\n",
    "print(val_acc)"
   ]
  },
  {
   "cell_type": "code",
   "execution_count": 61,
   "metadata": {},
   "outputs": [
    {
     "name": "stderr",
     "output_type": "stream",
     "text": [
      "No handles with labels found to put in legend.\n"
     ]
    },
    {
     "data": {
      "image/png": "[encoded data removed]",
      "text/plain": [
       "<Figure size 576x216 with 1 Axes>"
      ]
     },
     "metadata": {
      "needs_background": "light"
     },
     "output_type": "display_data"
    }
   ],
   "source": [
    "plt.figure(figsize=[8, 3])\n",
    "plt.xlabel(\"Number of features selected\")\n",
    "plt.ylabel(\"AUC (validation set)\")\n",
    "plt.title(\"Performance of Random Forest trained with top K features\")\n",
    "plt.plot(range(1,11), val_auc)\n",
    "plt.ylim([0.5, 0.8])\n",
    "plt.axvline(x=8, c = 'r')\n",
    "plt.xticks(range(1,11))\n",
    "plt.legend()\n",
    "plt.show()"
   ]
  },
  {
   "cell_type": "markdown",
   "metadata": {},
   "source": [
    "## Model Evaluation"
   ]
  },
  {
   "cell_type": "code",
   "execution_count": 62,
   "metadata": {},
   "outputs": [],
   "source": [
    "# RF-permutation\n",
    "X_train_selected = X_train[:, sorted_idx[:8]]\n",
    "X_test_selected = X_test[:, sorted_idx[:8]]"
   ]
  },
  {
   "cell_type": "code",
   "execution_count": 63,
   "metadata": {},
   "outputs": [
    {
     "name": "stdout",
     "output_type": "stream",
     "text": [
      "---LR finished in 1.5278804302215576 seconds ---\n",
      ">LR: test AUC 0.660\n",
      "---DT finished in 0.2661285400390625 seconds ---\n",
      ">DT: test AUC 0.521\n",
      "---RF finished in 13.986124515533447 seconds ---\n",
      ">RF: test AUC 0.685\n",
      "---AdaBoost finished in 84.11627054214478 seconds ---\n",
      ">AdaBoost: test AUC 0.674\n",
      "---GBM finished in 463.5323829650879 seconds ---\n",
      ">GBM: test AUC 0.698\n",
      "---SVM finished in 566.2392027378082 seconds ---\n",
      ">SVM: test AUC 0.703\n"
     ]
    }
   ],
   "source": [
    "models = [\n",
    "          ('LR', LogisticRegression(class_weight = 'balanced')), \n",
    "          ('DT', DecisionTreeClassifier(class_weight = 'balanced')),\n",
    "          ('RF', RandomForestClassifier(class_weight = 'balanced')),\n",
    "          ('AdaBoost', AdaBoostClassifier(n_estimators=1000)),\n",
    "          ('GBM', GradientBoostingClassifier(n_estimators=1000)),\n",
    "          ('SVM', SVC(probability=True, class_weight = 'balanced'))\n",
    "        ]\n",
    "\n",
    "# Parameter tuning grids-------------------------\n",
    "LR_params = [{'C': [ 10, 1.0, 0.1, 0.01]}]\n",
    "DT_params = [{}]\n",
    "RF_params = [{'n_estimators': [50, 100, 500]}]\n",
    "Gradient_params = [{'learning_rate': [0.001, 0.01, 0.1], 'n_estimators': [500, 1000], 'subsample': [0.5, 0.7, 1.0], 'max_depth': [3, 7, 9]}]\n",
    "Ada_params = [{'learning_rate': [0.001, 0.01, 0.1], 'n_estimators': [500, 1000], 'base_estimator': [DecisionTreeClassifier(max_depth=1, class_weight = 'balanced'), DecisionTreeClassifier(max_depth=5, class_weight = 'balanced')]}]\n",
    "SVM_params =[{'kernel': ['linear', 'poly', 'rbf'], 'C': [100, 10, 1.0, 0.1, 0.001]}]\n",
    "\n",
    "my_grid ={'LR': LR_params,\n",
    "         'DT': DT_params,\n",
    "         'RF': RF_params,\n",
    "         'AdaBoost': Ada_params,\n",
    "         'GBM': Gradient_params,\n",
    "         'SVM': SVM_params}\n",
    "\n",
    "# evaluate all the models\n",
    "train_acc, test_acc, train_auc, test_auc = [], [], [], []\n",
    "names = []\n",
    "cv_results = []\n",
    "best_params = []\n",
    "clfs = []\n",
    "runtimes = []\n",
    "\n",
    "for name, model in models:\n",
    "    start_time = time.time()\n",
    "\n",
    "    \n",
    "    clf = GridSearchCV(model, my_grid[name], cv = 5, scoring='roc_auc', n_jobs=10)\n",
    "    clf.fit(X_train_selected, y_train)\n",
    "\n",
    "    y_train_pred = clf.predict(X_train_selected)\n",
    "    y_train_score = clf.predict_proba(X_train_selected)\n",
    "    y_test_pred = clf.predict(X_test_selected)\n",
    "    y_test_score = clf.predict_proba(X_test_selected)\n",
    "    #cv_results.append(cv_result)\n",
    "    \n",
    "    train_acc.append(balanced_accuracy_score(y_train, y_train_pred))\n",
    "    test_acc.append(balanced_accuracy_score(y_test, y_test_pred))\n",
    "    train_auc.append(roc_auc_score(y_train, y_train_score[:, 1]))\n",
    "    test_auc.append(roc_auc_score(y_test, y_test_score[:, 1]))\n",
    "    \n",
    "    best_params.append(clf.best_params_)\n",
    "    clfs.append(clf)\n",
    "    \n",
    "    names.append(name)\n",
    "    \n",
    "    runtime = (time.time() - start_time)\n",
    "    runtimes.append(runtime)\n",
    "    print(\"---%s finished in %s seconds ---\" % (name, runtime))\n",
    "    print('>%s: test AUC %.3f' % (name, roc_auc_score(y_test, y_test_score[:, 1])))\n"
   ]
  },
  {
   "cell_type": "code",
   "execution_count": 64,
   "metadata": {},
   "outputs": [
    {
     "name": "stdout",
     "output_type": "stream",
     "text": [
      "          train_acc  test_acc  train_auc  test_auc  runtime(s)\n",
      "LR         0.599617  0.615729   0.645737  0.660389    1.527880\n",
      "DT         1.000000  0.520839   1.000000  0.520839    0.266129\n",
      "RF         1.000000  0.500901   1.000000  0.685101   13.986125\n",
      "AdaBoost   0.642755  0.635376   0.705205  0.673631   84.116271\n",
      "GBM        0.524088  0.500000   0.926431  0.697578  463.532383\n",
      "SVM        0.661155  0.651143   0.722510  0.702637  566.239203\n"
     ]
    }
   ],
   "source": [
    "scores_df = pd.DataFrame({'train_acc':train_acc, \n",
    "                          'test_acc':test_acc, \n",
    "                          'train_auc':train_auc,\n",
    "                          'test_auc':test_auc, \n",
    "                          'runtime(s)': runtimes}, index=names)\n",
    "print(scores_df)"
   ]
  },
  {
   "cell_type": "code",
   "execution_count": 65,
   "metadata": {},
   "outputs": [],
   "source": [
    "scores_df.to_csv('/home/e0205142/project/MIMIC_assignment1/results/final_models_evaluation.csv', index=True)"
   ]
  },
  {
   "cell_type": "code",
   "execution_count": 66,
   "metadata": {},
   "outputs": [],
   "source": [
    "with open('/home/e0205142/project/MIMIC_assignment1/results/final_models_best_params.txt', 'w') as f:\n",
    "    for name, para in zip(names, best_params):\n",
    "        print(name, para, file=f)"
   ]
  },
  {
   "cell_type": "code",
   "execution_count": 67,
   "metadata": {},
   "outputs": [],
   "source": [
    "with open('/home/e0205142/project/MIMIC_assignment1/results/final_clfs.pkl','wb') as f :\n",
    "    pickle.dump(clfs, f, protocol=pickle.HIGHEST_PROTOCOL)\n",
    "    f.close()"
   ]
  },
  {
   "cell_type": "code",
   "execution_count": null,
   "metadata": {},
   "outputs": [],
   "source": []
  }
 ],
 "metadata": {
  "kernelspec": {
   "display_name": "py38",
   "language": "python",
   "name": "py38"
  },
  "language_info": {
   "codemirror_mode": {
    "name": "ipython",
    "version": 3
   },
   "file_extension": ".py",
   "mimetype": "text/x-python",
   "name": "python",
   "nbconvert_exporter": "python",
   "pygments_lexer": "ipython3",
   "version": "3.8.10"
  }
 },
 "nbformat": 4,
 "nbformat_minor": 4
}
